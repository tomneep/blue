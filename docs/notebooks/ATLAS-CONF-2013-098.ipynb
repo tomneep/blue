{
 "cells": [
  {
   "cell_type": "markdown",
   "metadata": {},
   "source": [
    "# [ATLAS-CONF-2013-098](https://cds.cern.ch/record/1601029/files/ATLAS-CONF-2013-098.pdf)"
   ]
  },
  {
   "cell_type": "markdown",
   "metadata": {},
   "source": [
    "## Single top t-channel cross-section combination @ 8 TeV"
   ]
  },
  {
   "cell_type": "code",
   "execution_count": 1,
   "metadata": {
    "collapsed": true
   },
   "outputs": [],
   "source": [
    "%matplotlib inline"
   ]
  },
  {
   "cell_type": "code",
   "execution_count": 2,
   "metadata": {
    "collapsed": true
   },
   "outputs": [],
   "source": [
    "from blue import Blue\n",
    "import matplotlib.pyplot as plt\n",
    "import numpy as np\n",
    "import pandas as pd"
   ]
  },
  {
   "cell_type": "markdown",
   "metadata": {},
   "source": [
    "Load the data from a csv file and then seperate out the correlation row from the results and systematics. All uncertainties in the file are relative and so we convert them into absolute uncertainties on the measured values."
   ]
  },
  {
   "cell_type": "code",
   "execution_count": 3,
   "metadata": {},
   "outputs": [
    {
     "data": {
      "text/html": [
       "<div>\n",
       "<style>\n",
       "    .dataframe thead tr:only-child th {\n",
       "        text-align: right;\n",
       "    }\n",
       "\n",
       "    .dataframe thead th {\n",
       "        text-align: left;\n",
       "    }\n",
       "\n",
       "    .dataframe tbody tr th {\n",
       "        vertical-align: top;\n",
       "    }\n",
       "</style>\n",
       "<table border=\"1\" class=\"dataframe\">\n",
       "  <thead>\n",
       "    <tr style=\"text-align: right;\">\n",
       "      <th>Exp</th>\n",
       "      <th>ATLAS</th>\n",
       "      <th>CMS</th>\n",
       "      <th>Corr</th>\n",
       "    </tr>\n",
       "  </thead>\n",
       "  <tbody>\n",
       "    <tr>\n",
       "      <th>Value</th>\n",
       "      <td>95.1</td>\n",
       "      <td>80.1</td>\n",
       "      <td>0.0</td>\n",
       "    </tr>\n",
       "    <tr>\n",
       "      <th>StatData</th>\n",
       "      <td>2.4</td>\n",
       "      <td>7.1</td>\n",
       "      <td>0.0</td>\n",
       "    </tr>\n",
       "    <tr>\n",
       "      <th>StatSim</th>\n",
       "      <td>2.9</td>\n",
       "      <td>2.2</td>\n",
       "      <td>0.0</td>\n",
       "    </tr>\n",
       "    <tr>\n",
       "      <th>Calib</th>\n",
       "      <td>3.0</td>\n",
       "      <td>4.1</td>\n",
       "      <td>1.0</td>\n",
       "    </tr>\n",
       "    <tr>\n",
       "      <th>Stability</th>\n",
       "      <td>2.0</td>\n",
       "      <td>1.6</td>\n",
       "      <td>0.0</td>\n",
       "    </tr>\n",
       "    <tr>\n",
       "      <th>IFSR</th>\n",
       "      <td>9.1</td>\n",
       "      <td>3.1</td>\n",
       "      <td>1.0</td>\n",
       "    </tr>\n",
       "    <tr>\n",
       "      <th>PDF</th>\n",
       "      <td>2.8</td>\n",
       "      <td>4.6</td>\n",
       "      <td>1.0</td>\n",
       "    </tr>\n",
       "    <tr>\n",
       "      <th>tchgen</th>\n",
       "      <td>7.1</td>\n",
       "      <td>5.5</td>\n",
       "      <td>1.0</td>\n",
       "    </tr>\n",
       "    <tr>\n",
       "      <th>ttgen</th>\n",
       "      <td>3.3</td>\n",
       "      <td>0.0</td>\n",
       "      <td>0.0</td>\n",
       "    </tr>\n",
       "    <tr>\n",
       "      <th>hadronisation</th>\n",
       "      <td>0.8</td>\n",
       "      <td>0.0</td>\n",
       "      <td>0.0</td>\n",
       "    </tr>\n",
       "    <tr>\n",
       "      <th>JES</th>\n",
       "      <td>7.7</td>\n",
       "      <td>6.8</td>\n",
       "      <td>0.0</td>\n",
       "    </tr>\n",
       "    <tr>\n",
       "      <th>JER</th>\n",
       "      <td>3.0</td>\n",
       "      <td>0.7</td>\n",
       "      <td>0.0</td>\n",
       "    </tr>\n",
       "    <tr>\n",
       "      <th>Norm</th>\n",
       "      <td>1.6</td>\n",
       "      <td>2.1</td>\n",
       "      <td>1.0</td>\n",
       "    </tr>\n",
       "    <tr>\n",
       "      <th>Multijet</th>\n",
       "      <td>3.1</td>\n",
       "      <td>0.9</td>\n",
       "      <td>0.0</td>\n",
       "    </tr>\n",
       "    <tr>\n",
       "      <th>Wjets</th>\n",
       "      <td>0.0</td>\n",
       "      <td>4.5</td>\n",
       "      <td>0.0</td>\n",
       "    </tr>\n",
       "    <tr>\n",
       "      <th>btagging</th>\n",
       "      <td>8.5</td>\n",
       "      <td>4.6</td>\n",
       "      <td>0.5</td>\n",
       "    </tr>\n",
       "    <tr>\n",
       "      <th>ETMiss</th>\n",
       "      <td>2.3</td>\n",
       "      <td>1.0</td>\n",
       "      <td>0.0</td>\n",
       "    </tr>\n",
       "    <tr>\n",
       "      <th>JVF</th>\n",
       "      <td>1.6</td>\n",
       "      <td>0.0</td>\n",
       "      <td>0.0</td>\n",
       "    </tr>\n",
       "    <tr>\n",
       "      <th>PU</th>\n",
       "      <td>0.0</td>\n",
       "      <td>0.5</td>\n",
       "      <td>0.0</td>\n",
       "    </tr>\n",
       "    <tr>\n",
       "      <th>LeptonEff</th>\n",
       "      <td>4.1</td>\n",
       "      <td>0.0</td>\n",
       "      <td>0.0</td>\n",
       "    </tr>\n",
       "    <tr>\n",
       "      <th>Trigger</th>\n",
       "      <td>0.0</td>\n",
       "      <td>5.1</td>\n",
       "      <td>0.0</td>\n",
       "    </tr>\n",
       "    <tr>\n",
       "      <th>LeptonRes</th>\n",
       "      <td>2.2</td>\n",
       "      <td>0.0</td>\n",
       "      <td>0.0</td>\n",
       "    </tr>\n",
       "    <tr>\n",
       "      <th>LeptonScale</th>\n",
       "      <td>2.1</td>\n",
       "      <td>0.0</td>\n",
       "      <td>0.0</td>\n",
       "    </tr>\n",
       "  </tbody>\n",
       "</table>\n",
       "</div>"
      ],
      "text/plain": [
       "Exp            ATLAS   CMS  Corr\n",
       "Value           95.1  80.1   0.0\n",
       "StatData         2.4   7.1   0.0\n",
       "StatSim          2.9   2.2   0.0\n",
       "Calib            3.0   4.1   1.0\n",
       "Stability        2.0   1.6   0.0\n",
       "IFSR             9.1   3.1   1.0\n",
       "PDF              2.8   4.6   1.0\n",
       "tchgen           7.1   5.5   1.0\n",
       "ttgen            3.3   0.0   0.0\n",
       "hadronisation    0.8   0.0   0.0\n",
       "JES              7.7   6.8   0.0\n",
       "JER              3.0   0.7   0.0\n",
       "Norm             1.6   2.1   1.0\n",
       "Multijet         3.1   0.9   0.0\n",
       "Wjets            0.0   4.5   0.0\n",
       "btagging         8.5   4.6   0.5\n",
       "ETMiss           2.3   1.0   0.0\n",
       "JVF              1.6   0.0   0.0\n",
       "PU               0.0   0.5   0.0\n",
       "LeptonEff        4.1   0.0   0.0\n",
       "Trigger          0.0   5.1   0.0\n",
       "LeptonRes        2.2   0.0   0.0\n",
       "LeptonScale      2.1   0.0   0.0"
      ]
     },
     "execution_count": 3,
     "metadata": {},
     "output_type": "execute_result"
    }
   ],
   "source": [
    "df = pd.read_csv('data/lhc_single_top.csv', index_col='Exp')\n",
    "df.T"
   ]
  },
  {
   "cell_type": "code",
   "execution_count": 4,
   "metadata": {},
   "outputs": [],
   "source": [
    "corr = df.loc['Corr'][1:]\n",
    "df = df.drop('Corr')\n",
    "df.update((df.drop('Value', axis=1).T * df['Value'].values / 100).T)"
   ]
  },
  {
   "cell_type": "markdown",
   "metadata": {},
   "source": [
    "Now we construct an instance of the `Blue` class using the Blue.iterative() class method. When we make the `Blue` class this way we apply the procedure iteratively until the change in the result is less than 1%. The iterative method scales the uncertainties based on the combined result."
   ]
  },
  {
   "cell_type": "code",
   "execution_count": 5,
   "metadata": {
    "collapsed": true
   },
   "outputs": [],
   "source": [
    "blue = Blue.iterative(df, corr, fixed=['StatData', 'StatSim'])"
   ]
  },
  {
   "cell_type": "markdown",
   "metadata": {},
   "source": [
    "We can see that the data associated to our instance of `Blue` is not the same as what we put in as the errors have been scaled."
   ]
  },
  {
   "cell_type": "code",
   "execution_count": 6,
   "metadata": {},
   "outputs": [
    {
     "data": {
      "text/html": [
       "<div>\n",
       "<style>\n",
       "    .dataframe thead tr:only-child th {\n",
       "        text-align: right;\n",
       "    }\n",
       "\n",
       "    .dataframe thead th {\n",
       "        text-align: left;\n",
       "    }\n",
       "\n",
       "    .dataframe tbody tr th {\n",
       "        vertical-align: top;\n",
       "    }\n",
       "</style>\n",
       "<table border=\"1\" class=\"dataframe\">\n",
       "  <thead>\n",
       "    <tr style=\"text-align: right;\">\n",
       "      <th>Exp</th>\n",
       "      <th>ATLAS</th>\n",
       "      <th>CMS</th>\n",
       "    </tr>\n",
       "  </thead>\n",
       "  <tbody>\n",
       "    <tr>\n",
       "      <th>Value</th>\n",
       "      <td>95.10</td>\n",
       "      <td>80.10</td>\n",
       "    </tr>\n",
       "    <tr>\n",
       "      <th>StatData</th>\n",
       "      <td>2.28</td>\n",
       "      <td>5.69</td>\n",
       "    </tr>\n",
       "    <tr>\n",
       "      <th>StatSim</th>\n",
       "      <td>2.76</td>\n",
       "      <td>1.76</td>\n",
       "    </tr>\n",
       "    <tr>\n",
       "      <th>Calib</th>\n",
       "      <td>2.56</td>\n",
       "      <td>3.50</td>\n",
       "    </tr>\n",
       "    <tr>\n",
       "      <th>Stability</th>\n",
       "      <td>1.71</td>\n",
       "      <td>1.37</td>\n",
       "    </tr>\n",
       "    <tr>\n",
       "      <th>IFSR</th>\n",
       "      <td>7.76</td>\n",
       "      <td>2.64</td>\n",
       "    </tr>\n",
       "    <tr>\n",
       "      <th>PDF</th>\n",
       "      <td>2.39</td>\n",
       "      <td>3.92</td>\n",
       "    </tr>\n",
       "    <tr>\n",
       "      <th>tchgen</th>\n",
       "      <td>6.06</td>\n",
       "      <td>4.69</td>\n",
       "    </tr>\n",
       "    <tr>\n",
       "      <th>ttgen</th>\n",
       "      <td>2.82</td>\n",
       "      <td>0.00</td>\n",
       "    </tr>\n",
       "    <tr>\n",
       "      <th>hadronisation</th>\n",
       "      <td>0.68</td>\n",
       "      <td>0.00</td>\n",
       "    </tr>\n",
       "    <tr>\n",
       "      <th>JES</th>\n",
       "      <td>6.57</td>\n",
       "      <td>5.80</td>\n",
       "    </tr>\n",
       "    <tr>\n",
       "      <th>JER</th>\n",
       "      <td>2.56</td>\n",
       "      <td>0.60</td>\n",
       "    </tr>\n",
       "    <tr>\n",
       "      <th>Norm</th>\n",
       "      <td>1.37</td>\n",
       "      <td>1.79</td>\n",
       "    </tr>\n",
       "    <tr>\n",
       "      <th>Multijet</th>\n",
       "      <td>2.64</td>\n",
       "      <td>0.77</td>\n",
       "    </tr>\n",
       "    <tr>\n",
       "      <th>Wjets</th>\n",
       "      <td>0.00</td>\n",
       "      <td>3.84</td>\n",
       "    </tr>\n",
       "    <tr>\n",
       "      <th>btagging</th>\n",
       "      <td>7.25</td>\n",
       "      <td>3.92</td>\n",
       "    </tr>\n",
       "    <tr>\n",
       "      <th>ETMiss</th>\n",
       "      <td>1.96</td>\n",
       "      <td>0.85</td>\n",
       "    </tr>\n",
       "    <tr>\n",
       "      <th>JVF</th>\n",
       "      <td>1.37</td>\n",
       "      <td>0.00</td>\n",
       "    </tr>\n",
       "    <tr>\n",
       "      <th>PU</th>\n",
       "      <td>0.00</td>\n",
       "      <td>0.43</td>\n",
       "    </tr>\n",
       "    <tr>\n",
       "      <th>LeptonEff</th>\n",
       "      <td>3.50</td>\n",
       "      <td>0.00</td>\n",
       "    </tr>\n",
       "    <tr>\n",
       "      <th>Trigger</th>\n",
       "      <td>0.00</td>\n",
       "      <td>4.35</td>\n",
       "    </tr>\n",
       "    <tr>\n",
       "      <th>LeptonRes</th>\n",
       "      <td>1.88</td>\n",
       "      <td>0.00</td>\n",
       "    </tr>\n",
       "    <tr>\n",
       "      <th>LeptonScale</th>\n",
       "      <td>1.79</td>\n",
       "      <td>0.00</td>\n",
       "    </tr>\n",
       "  </tbody>\n",
       "</table>\n",
       "</div>"
      ],
      "text/plain": [
       "Exp            ATLAS    CMS\n",
       "Value          95.10  80.10\n",
       "StatData        2.28   5.69\n",
       "StatSim         2.76   1.76\n",
       "Calib           2.56   3.50\n",
       "Stability       1.71   1.37\n",
       "IFSR            7.76   2.64\n",
       "PDF             2.39   3.92\n",
       "tchgen          6.06   4.69\n",
       "ttgen           2.82   0.00\n",
       "hadronisation   0.68   0.00\n",
       "JES             6.57   5.80\n",
       "JER             2.56   0.60\n",
       "Norm            1.37   1.79\n",
       "Multijet        2.64   0.77\n",
       "Wjets           0.00   3.84\n",
       "btagging        7.25   3.92\n",
       "ETMiss          1.96   0.85\n",
       "JVF             1.37   0.00\n",
       "PU              0.00   0.43\n",
       "LeptonEff       3.50   0.00\n",
       "Trigger         0.00   4.35\n",
       "LeptonRes       1.88   0.00\n",
       "LeptonScale     1.79   0.00"
      ]
     },
     "execution_count": 6,
     "metadata": {},
     "output_type": "execute_result"
    }
   ],
   "source": [
    "np.round(blue.data.T, 2)"
   ]
  },
  {
   "cell_type": "markdown",
   "metadata": {},
   "source": [
    "This now behaves like a standard blue combination as if we had passed the above data as input."
   ]
  },
  {
   "cell_type": "code",
   "execution_count": 7,
   "metadata": {},
   "outputs": [
    {
     "data": {
      "text/plain": [
       "85.283168149238861"
      ]
     },
     "execution_count": 7,
     "metadata": {},
     "output_type": "execute_result"
    }
   ],
   "source": [
    "result = blue.combined_result\n",
    "result"
   ]
  },
  {
   "cell_type": "code",
   "execution_count": 8,
   "metadata": {},
   "outputs": [
    {
     "data": {
      "text/plain": [
       "Calib            3.173899\n",
       "ETMiss           0.878422\n",
       "IFSR             4.413942\n",
       "JER              0.966998\n",
       "JES              4.423970\n",
       "JVF              0.471722\n",
       "LeptonEff        1.208787\n",
       "LeptonRes        0.648617\n",
       "LeptonScale      0.619135\n",
       "Multijet         1.043018\n",
       "Norm             1.644352\n",
       "PDF              3.394132\n",
       "PU               0.279198\n",
       "Stability        1.070472\n",
       "StatData         3.804595\n",
       "StatSim          1.496069\n",
       "Trigger          2.847816\n",
       "Wjets            2.512779\n",
       "btagging         4.394878\n",
       "hadronisation    0.235861\n",
       "tchgen           5.164439\n",
       "ttgen            0.972926\n",
       "dtype: float64"
      ]
     },
     "execution_count": 8,
     "metadata": {},
     "output_type": "execute_result"
    }
   ],
   "source": [
    "uncerts = pd.Series(blue.combined_uncertainties)\n",
    "uncerts"
   ]
  },
  {
   "cell_type": "code",
   "execution_count": 9,
   "metadata": {},
   "outputs": [
    {
     "data": {
      "text/plain": [
       "12.1648721560449"
      ]
     },
     "execution_count": 9,
     "metadata": {},
     "output_type": "execute_result"
    }
   ],
   "source": [
    "total_uncert = np.sqrt((uncerts**2).sum())\n",
    "total_uncert"
   ]
  },
  {
   "cell_type": "markdown",
   "metadata": {},
   "source": [
    "Equation (10) of the CONF note"
   ]
  },
  {
   "cell_type": "code",
   "execution_count": 10,
   "metadata": {},
   "outputs": [
    {
     "data": {
      "text/plain": [
       "array([[ 269.,   84.],\n",
       "       [  84.,  182.]])"
      ]
     },
     "execution_count": 10,
     "metadata": {},
     "output_type": "execute_result"
    }
   ],
   "source": [
    "np.round(blue.total_covariance, 0)"
   ]
  },
  {
   "cell_type": "markdown",
   "metadata": {},
   "source": [
    "The correlation is just after Eq. (10) in the CONF note:"
   ]
  },
  {
   "cell_type": "code",
   "execution_count": 11,
   "metadata": {},
   "outputs": [
    {
     "name": "stdout",
     "output_type": "stream",
     "text": [
      "Correlation = 38.0%\n"
     ]
    }
   ],
   "source": [
    "print(f'Correlation = {blue.total_correlations[0, 1]:.1%}')"
   ]
  },
  {
   "cell_type": "markdown",
   "metadata": {},
   "source": [
    "The weights are given just before Eq. (11)"
   ]
  },
  {
   "cell_type": "code",
   "execution_count": 12,
   "metadata": {},
   "outputs": [
    {
     "data": {
      "text/plain": [
       "array([ 0.35,  0.65])"
      ]
     },
     "execution_count": 12,
     "metadata": {},
     "output_type": "execute_result"
    }
   ],
   "source": [
    "np.round(blue.weights, 2)"
   ]
  },
  {
   "cell_type": "markdown",
   "metadata": {},
   "source": [
    "Eq. (11) of the CONF note is:"
   ]
  },
  {
   "cell_type": "code",
   "execution_count": 13,
   "metadata": {},
   "outputs": [
    {
     "name": "stdout",
     "output_type": "stream",
     "text": [
      "Combined cross-section = 85.3 +/- 12.2 pb\n"
     ]
    }
   ],
   "source": [
    "print(f'Combined cross-section = {result:.1f} +/- {total_uncert:.1f} pb')"
   ]
  },
  {
   "cell_type": "markdown",
   "metadata": {},
   "source": [
    "Just after Eq. (11) the $\\chi^2$ is quoted"
   ]
  },
  {
   "cell_type": "code",
   "execution_count": 14,
   "metadata": {},
   "outputs": [
    {
     "data": {
      "text/plain": [
       "(0.79490106382880632, 1)"
      ]
     },
     "execution_count": 14,
     "metadata": {},
     "output_type": "execute_result"
    }
   ],
   "source": [
    "blue.chi2_ndf"
   ]
  },
  {
   "cell_type": "code",
   "execution_count": 15,
   "metadata": {},
   "outputs": [
    {
     "data": {
      "text/plain": [
       "3.3495591503462561"
      ]
     },
     "execution_count": 15,
     "metadata": {},
     "output_type": "execute_result"
    }
   ],
   "source": [
    "lumi_uncert = np.sqrt((uncerts[['Calib', 'Stability']] ** 2).sum())\n",
    "lumi_uncert"
   ]
  },
  {
   "cell_type": "code",
   "execution_count": 16,
   "metadata": {
    "collapsed": true
   },
   "outputs": [],
   "source": [
    "stat_uncert = np.sqrt((uncerts[['StatData', 'StatSim']] ** 2).sum())"
   ]
  },
  {
   "cell_type": "code",
   "execution_count": 17,
   "metadata": {
    "collapsed": true
   },
   "outputs": [],
   "source": [
    "_ = (uncerts[uncerts.index ^ {'Calib', 'Stability', 'StatData', 'StatSim'}] ** 2).sum()\n",
    "syst_uncert = np.sqrt(_)"
   ]
  },
  {
   "cell_type": "markdown",
   "metadata": {},
   "source": [
    "Eq. (13) is the combined result again, with the uncertainties broken down into Stat, Syst and Lumi.\n",
    "Here we see a slightly different number for the lumi uncertainty, probably due to rounding somewhere?"
   ]
  },
  {
   "cell_type": "code",
   "execution_count": 18,
   "metadata": {},
   "outputs": [
    {
     "name": "stdout",
     "output_type": "stream",
     "text": [
      "Combined cross-section = 85.3 +/- 4.1 (stat) +/- 11.0 (syst) +/- 3.3 (lumi) pb\n"
     ]
    }
   ],
   "source": [
    "print(f'Combined cross-section = {result:.1f} '\n",
    "      f'+/- {stat_uncert:.1f} (stat) '\n",
    "      f'+/- {syst_uncert:.1f} (syst) '\n",
    "      f'+/- {lumi_uncert:.1f} (lumi) pb')"
   ]
  },
  {
   "cell_type": "markdown",
   "metadata": {},
   "source": [
    "Table 2 from the CONF note - the systematics summary table."
   ]
  },
  {
   "cell_type": "code",
   "execution_count": 19,
   "metadata": {},
   "outputs": [
    {
     "name": "stdout",
     "output_type": "stream",
     "text": [
      "Source             Uncertainty (pb)\n",
      "-----------------------------------\n",
      "Backgrounds                 3.2\n",
      "Detector modelling          5.5\n",
      "Jets                        4.5\n",
      "Luminosity                  3.3\n",
      "Simulation and modelling    7.7\n",
      "Statistics                  4.1\n",
      "dtype: float64\n",
      "-----------------------------------\n",
      "Total syst (excl. lumi) =   11.0\n",
      "Total syst (inc. lumi) =    11.5\n",
      "-----------------------------------\n",
      "Total uncertainty =         12.2\n"
     ]
    }
   ],
   "source": [
    "uncert_correlations = {\n",
    "    'Statistics': ['StatData', 'StatSim'],\n",
    "    'Luminosity': ['Calib', 'Stability'],\n",
    "    'Simulation and modelling': ['IFSR', 'tchgen', 'ttgen', 'PDF', 'hadronisation'],\n",
    "    'Jets': ['JER', 'JES'],\n",
    "    'Backgrounds': ['Norm', 'Multijet', 'Wjets'],\n",
    "    'Detector modelling': ['btagging', 'ETMiss', 'JVF', 'PU', 'LeptonEff', 'Trigger', 'LeptonRes', 'LeptonScale']\n",
    "}\n",
    "uncert_summary = {}\n",
    "for i, j in uncert_correlations.items():\n",
    "    x = np.sqrt((uncerts[j] ** 2).sum())\n",
    "    uncert_summary[i] = x\n",
    "uncert_summary = pd.Series(uncert_summary)\n",
    "print('Source             Uncertainty (pb)')\n",
    "print('-' * 35)\n",
    "print(np.round(uncert_summary, 1))\n",
    "print('-' * 35)\n",
    "print('Total syst (excl. lumi) =  ', \n",
    "      np.round(np.sqrt((uncert_summary.drop(['Luminosity', 'Statistics']) ** 2).sum()), 1))\n",
    "print('Total syst (inc. lumi) =   ', \n",
    "     np.round(np.sqrt((uncert_summary.drop('Statistics') ** 2).sum()), 1))\n",
    "print('-' * 35)\n",
    "print('Total uncertainty =        ',\n",
    "      np.round(np.sqrt((uncert_summary ** 2).sum()), 1))"
   ]
  },
  {
   "cell_type": "markdown",
   "metadata": {},
   "source": [
    "Check the stability of the combination by varying the correlation assumptions. We setup a list of dictionaries that we will use to override the defaults when we setup the iterative blue method. Then we check the difference in the result and the uncertainty with respect to the nominal result. See Table 3 of the CONF note."
   ]
  },
  {
   "cell_type": "code",
   "execution_count": 20,
   "metadata": {},
   "outputs": [
    {
     "name": "stdout",
     "output_type": "stream",
     "text": [
      "=====\n",
      "{'Calib': 0.5}\n",
      "Shift in central value (pb) = +0.1\n",
      "Shift in uncertainty (pb) = -0.1\n",
      "=====\n",
      "{'Calib': 0}\n",
      "Shift in central value (pb) = +0.1\n",
      "Shift in uncertainty (pb) = -0.2\n",
      "=====\n",
      "{'IFSR': 0.5, 'tchgen': 0.5, 'ttgen': 0.5, 'PDF': 0.5, 'hadronisation': 0.5}\n",
      "Shift in central value (pb) = +0.4\n",
      "Shift in uncertainty (pb) = -0.5\n",
      "=====\n",
      "{'IFSR': 0, 'tchgen': 0, 'ttgen': 0, 'PDF': 0, 'hadronisation': 0}\n",
      "Shift in central value (pb) = +0.7\n",
      "Shift in uncertainty (pb) = -1.1\n",
      "=====\n",
      "{'JES': 0.5}\n",
      "Shift in central value (pb) = -0.4\n",
      "Shift in uncertainty (pb) = +0.3\n",
      "=====\n",
      "{'JES': 1}\n",
      "Shift in central value (pb) = -0.8\n",
      "Shift in uncertainty (pb) = +0.6\n",
      "=====\n",
      "{'btagging': 0}\n",
      "Shift in central value (pb) = +0.2\n",
      "Shift in uncertainty (pb) = -0.2\n",
      "=====\n",
      "{'btagging': 1}\n",
      "Shift in central value (pb) = -0.3\n",
      "Shift in uncertainty (pb) = +0.2\n"
     ]
    }
   ],
   "source": [
    "checks = [\n",
    "    {'Calib': 0.5}, {'Calib': 0}, \n",
    "    {'IFSR': 0.5, 'tchgen': 0.5, 'ttgen': 0.5, 'PDF': 0.5, 'hadronisation': 0.5},\n",
    "    {'IFSR': 0, 'tchgen': 0, 'ttgen': 0, 'PDF': 0, 'hadronisation': 0},\n",
    "    {'JES': 0.5}, {'JES': 1},    \n",
    "    {'btagging': 0}, {'btagging': 1},\n",
    "]\n",
    "for i in checks:\n",
    "    print('=====')\n",
    "    print(i)\n",
    "    tmp_blue = Blue.iterative(df, {**corr, **i}, fixed=['StatData', 'StatSim'])\n",
    "    print('Shift in central value (pb) = '\n",
    "          f'{tmp_blue.combined_result - result:+.1f}')\n",
    "    tmp_uncert = np.sqrt((pd.Series(tmp_blue.combined_uncertainties) ** 2).sum())\n",
    "    print('Shift in uncertainty (pb) = '\n",
    "          f'{tmp_uncert - total_uncert:+.1f}')"
   ]
  }
 ],
 "metadata": {
  "kernelspec": {
   "display_name": "Python 3",
   "language": "python",
   "name": "python3"
  },
  "language_info": {
   "codemirror_mode": {
    "name": "ipython",
    "version": 3
   },
   "file_extension": ".py",
   "mimetype": "text/x-python",
   "name": "python",
   "nbconvert_exporter": "python",
   "pygments_lexer": "ipython3",
   "version": "3.6.0"
  }
 },
 "nbformat": 4,
 "nbformat_minor": 2
}
