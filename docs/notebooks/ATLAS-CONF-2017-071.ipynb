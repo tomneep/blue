{
 "cells": [
  {
   "cell_type": "markdown",
   "metadata": {},
   "source": [
    "# ATLAS top mass combination (7 + 8 TeV)\n",
    "\n",
    "In this notebook, the results of [ATLAS-CONF-2017-071](https://atlas.web.cern.ch/Atlas/GROUPS/PHYSICS/CONFNOTES/ATLAS-CONF-2017-071/) are reproduced.\n",
    "The CONF note reports the measurement of the top mass in \n",
    "the lepton + jets channel at $\\sqrt{s}=8$ TeV, before a combination \n",
    "with previous measurements is performed."
   ]
  },
  {
   "cell_type": "code",
   "execution_count": 1,
   "metadata": {},
   "outputs": [],
   "source": [
    "import numpy as np\n",
    "import pandas as pd\n",
    "\n",
    "from blue import Blue"
   ]
  },
  {
   "cell_type": "markdown",
   "metadata": {},
   "source": [
    "The data from the previous three measurements is \n",
    "store in `data/atlas_top_mass_dilep8.csv` as it was used in a previous combination and \n",
    "the data from this measurement is store in `data/atlas_top_mass_ljets8.csv`. We read this\n",
    "in and combined them into a single dataframe."
   ]
  },
  {
   "cell_type": "code",
   "execution_count": 2,
   "metadata": {},
   "outputs": [
    {
     "data": {
      "text/html": [
       "<div>\n",
       "<style>\n",
       "    .dataframe thead tr:only-child th {\n",
       "        text-align: right;\n",
       "    }\n",
       "\n",
       "    .dataframe thead th {\n",
       "        text-align: left;\n",
       "    }\n",
       "\n",
       "    .dataframe tbody tr th {\n",
       "        vertical-align: top;\n",
       "    }\n",
       "</style>\n",
       "<table border=\"1\" class=\"dataframe\">\n",
       "  <thead>\n",
       "    <tr style=\"text-align: right;\">\n",
       "      <th>Name</th>\n",
       "      <th>ljets_7</th>\n",
       "      <th>dilep_7</th>\n",
       "      <th>dilep_8</th>\n",
       "      <th>ljets_8</th>\n",
       "    </tr>\n",
       "  </thead>\n",
       "  <tbody>\n",
       "    <tr>\n",
       "      <th>Result</th>\n",
       "      <td>172.33</td>\n",
       "      <td>173.79</td>\n",
       "      <td>172.99</td>\n",
       "      <td>172.08</td>\n",
       "    </tr>\n",
       "    <tr>\n",
       "      <th>Stats</th>\n",
       "      <td>0.75</td>\n",
       "      <td>0.54</td>\n",
       "      <td>0.41</td>\n",
       "      <td>0.39</td>\n",
       "    </tr>\n",
       "    <tr>\n",
       "      <th>Method</th>\n",
       "      <td>0.11</td>\n",
       "      <td>0.09</td>\n",
       "      <td>0.05</td>\n",
       "      <td>0.13</td>\n",
       "    </tr>\n",
       "    <tr>\n",
       "      <th>SignalMC</th>\n",
       "      <td>0.22</td>\n",
       "      <td>0.26</td>\n",
       "      <td>0.09</td>\n",
       "      <td>0.16</td>\n",
       "    </tr>\n",
       "    <tr>\n",
       "      <th>Hadronisation</th>\n",
       "      <td>0.18</td>\n",
       "      <td>0.53</td>\n",
       "      <td>0.22</td>\n",
       "      <td>0.15</td>\n",
       "    </tr>\n",
       "    <tr>\n",
       "      <th>IFSR</th>\n",
       "      <td>0.32</td>\n",
       "      <td>0.47</td>\n",
       "      <td>0.23</td>\n",
       "      <td>0.08</td>\n",
       "    </tr>\n",
       "    <tr>\n",
       "      <th>UE</th>\n",
       "      <td>0.15</td>\n",
       "      <td>0.05</td>\n",
       "      <td>0.10</td>\n",
       "      <td>0.08</td>\n",
       "    </tr>\n",
       "    <tr>\n",
       "      <th>CR</th>\n",
       "      <td>0.11</td>\n",
       "      <td>0.14</td>\n",
       "      <td>0.03</td>\n",
       "      <td>0.19</td>\n",
       "    </tr>\n",
       "    <tr>\n",
       "      <th>PDF</th>\n",
       "      <td>0.25</td>\n",
       "      <td>0.11</td>\n",
       "      <td>0.05</td>\n",
       "      <td>0.09</td>\n",
       "    </tr>\n",
       "    <tr>\n",
       "      <th>BackNorm</th>\n",
       "      <td>0.10</td>\n",
       "      <td>0.04</td>\n",
       "      <td>0.03</td>\n",
       "      <td>0.08</td>\n",
       "    </tr>\n",
       "    <tr>\n",
       "      <th>WZShape</th>\n",
       "      <td>0.29</td>\n",
       "      <td>0.00</td>\n",
       "      <td>0.00</td>\n",
       "      <td>0.11</td>\n",
       "    </tr>\n",
       "    <tr>\n",
       "      <th>FakeShape</th>\n",
       "      <td>0.05</td>\n",
       "      <td>0.01</td>\n",
       "      <td>0.08</td>\n",
       "      <td>0.00</td>\n",
       "    </tr>\n",
       "    <tr>\n",
       "      <th>JES</th>\n",
       "      <td>0.58</td>\n",
       "      <td>0.75</td>\n",
       "      <td>0.54</td>\n",
       "      <td>0.54</td>\n",
       "    </tr>\n",
       "    <tr>\n",
       "      <th>btolightJES</th>\n",
       "      <td>0.06</td>\n",
       "      <td>0.68</td>\n",
       "      <td>0.30</td>\n",
       "      <td>0.03</td>\n",
       "    </tr>\n",
       "    <tr>\n",
       "      <th>JER</th>\n",
       "      <td>0.22</td>\n",
       "      <td>0.19</td>\n",
       "      <td>0.09</td>\n",
       "      <td>0.20</td>\n",
       "    </tr>\n",
       "    <tr>\n",
       "      <th>JetRecoEff</th>\n",
       "      <td>0.12</td>\n",
       "      <td>0.07</td>\n",
       "      <td>0.01</td>\n",
       "      <td>0.02</td>\n",
       "    </tr>\n",
       "    <tr>\n",
       "      <th>JVF</th>\n",
       "      <td>0.01</td>\n",
       "      <td>0.00</td>\n",
       "      <td>0.02</td>\n",
       "      <td>0.09</td>\n",
       "    </tr>\n",
       "    <tr>\n",
       "      <th>btagging</th>\n",
       "      <td>0.50</td>\n",
       "      <td>0.07</td>\n",
       "      <td>0.03</td>\n",
       "      <td>0.38</td>\n",
       "    </tr>\n",
       "    <tr>\n",
       "      <th>leptons</th>\n",
       "      <td>0.04</td>\n",
       "      <td>0.13</td>\n",
       "      <td>0.14</td>\n",
       "      <td>0.16</td>\n",
       "    </tr>\n",
       "    <tr>\n",
       "      <th>Etmiss</th>\n",
       "      <td>0.15</td>\n",
       "      <td>0.04</td>\n",
       "      <td>0.01</td>\n",
       "      <td>0.05</td>\n",
       "    </tr>\n",
       "    <tr>\n",
       "      <th>Pileup</th>\n",
       "      <td>0.02</td>\n",
       "      <td>0.01</td>\n",
       "      <td>0.05</td>\n",
       "      <td>0.15</td>\n",
       "    </tr>\n",
       "  </tbody>\n",
       "</table>\n",
       "</div>"
      ],
      "text/plain": [
       "Name           ljets_7  dilep_7  dilep_8  ljets_8\n",
       "Result          172.33   173.79   172.99   172.08\n",
       "Stats             0.75     0.54     0.41     0.39\n",
       "Method            0.11     0.09     0.05     0.13\n",
       "SignalMC          0.22     0.26     0.09     0.16\n",
       "Hadronisation     0.18     0.53     0.22     0.15\n",
       "IFSR              0.32     0.47     0.23     0.08\n",
       "UE                0.15     0.05     0.10     0.08\n",
       "CR                0.11     0.14     0.03     0.19\n",
       "PDF               0.25     0.11     0.05     0.09\n",
       "BackNorm          0.10     0.04     0.03     0.08\n",
       "WZShape           0.29     0.00     0.00     0.11\n",
       "FakeShape         0.05     0.01     0.08     0.00\n",
       "JES               0.58     0.75     0.54     0.54\n",
       "btolightJES       0.06     0.68     0.30     0.03\n",
       "JER               0.22     0.19     0.09     0.20\n",
       "JetRecoEff        0.12     0.07     0.01     0.02\n",
       "JVF               0.01     0.00     0.02     0.09\n",
       "btagging          0.50     0.07     0.03     0.38\n",
       "leptons           0.04     0.13     0.14     0.16\n",
       "Etmiss            0.15     0.04     0.01     0.05\n",
       "Pileup            0.02     0.01     0.05     0.15"
      ]
     },
     "execution_count": 2,
     "metadata": {},
     "output_type": "execute_result"
    }
   ],
   "source": [
    "dilep = pd.read_csv('data/atlas_top_mass_dilep8.csv', index_col='Name')\n",
    "ljets = pd.read_csv('data/atlas_top_mass_ljets8.csv', index_col='Name')\n",
    "df = pd.concat([dilep, ljets])\n",
    "df.T"
   ]
  },
  {
   "cell_type": "markdown",
   "metadata": {},
   "source": [
    "We can see the results of each measurement and their uncertainties. These can be compared with Table 4 in ATLAS-CONF-2017-071. For some reason, the numbers in the dilepton 8 TeV column are slightly different to those in the [paper](https://atlas.web.cern.ch/Atlas/GROUPS/PHYSICS/PAPERS/TOPQ-2016-03/) (I'm not sure why) so we'll update them."
   ]
  },
  {
   "cell_type": "code",
   "execution_count": 3,
   "metadata": {},
   "outputs": [
    {
     "data": {
      "text/html": [
       "<div>\n",
       "<style>\n",
       "    .dataframe thead tr:only-child th {\n",
       "        text-align: right;\n",
       "    }\n",
       "\n",
       "    .dataframe thead th {\n",
       "        text-align: left;\n",
       "    }\n",
       "\n",
       "    .dataframe tbody tr th {\n",
       "        vertical-align: top;\n",
       "    }\n",
       "</style>\n",
       "<table border=\"1\" class=\"dataframe\">\n",
       "  <thead>\n",
       "    <tr style=\"text-align: right;\">\n",
       "      <th>Name</th>\n",
       "      <th>ljets_7</th>\n",
       "      <th>dilep_7</th>\n",
       "      <th>dilep_8</th>\n",
       "      <th>ljets_8</th>\n",
       "    </tr>\n",
       "  </thead>\n",
       "  <tbody>\n",
       "    <tr>\n",
       "      <th>Result</th>\n",
       "      <td>172.33</td>\n",
       "      <td>173.79</td>\n",
       "      <td>172.99</td>\n",
       "      <td>172.08</td>\n",
       "    </tr>\n",
       "    <tr>\n",
       "      <th>Stats</th>\n",
       "      <td>0.75</td>\n",
       "      <td>0.54</td>\n",
       "      <td>0.41</td>\n",
       "      <td>0.39</td>\n",
       "    </tr>\n",
       "    <tr>\n",
       "      <th>Method</th>\n",
       "      <td>0.11</td>\n",
       "      <td>0.09</td>\n",
       "      <td>0.05</td>\n",
       "      <td>0.13</td>\n",
       "    </tr>\n",
       "    <tr>\n",
       "      <th>SignalMC</th>\n",
       "      <td>0.22</td>\n",
       "      <td>0.26</td>\n",
       "      <td>0.09</td>\n",
       "      <td>0.16</td>\n",
       "    </tr>\n",
       "    <tr>\n",
       "      <th>Hadronisation</th>\n",
       "      <td>0.18</td>\n",
       "      <td>0.53</td>\n",
       "      <td>0.22</td>\n",
       "      <td>0.15</td>\n",
       "    </tr>\n",
       "    <tr>\n",
       "      <th>IFSR</th>\n",
       "      <td>0.32</td>\n",
       "      <td>0.47</td>\n",
       "      <td>0.23</td>\n",
       "      <td>0.08</td>\n",
       "    </tr>\n",
       "    <tr>\n",
       "      <th>UE</th>\n",
       "      <td>0.15</td>\n",
       "      <td>0.05</td>\n",
       "      <td>0.10</td>\n",
       "      <td>0.08</td>\n",
       "    </tr>\n",
       "    <tr>\n",
       "      <th>CR</th>\n",
       "      <td>0.11</td>\n",
       "      <td>0.14</td>\n",
       "      <td>0.03</td>\n",
       "      <td>0.19</td>\n",
       "    </tr>\n",
       "    <tr>\n",
       "      <th>PDF</th>\n",
       "      <td>0.25</td>\n",
       "      <td>0.11</td>\n",
       "      <td>0.05</td>\n",
       "      <td>0.09</td>\n",
       "    </tr>\n",
       "    <tr>\n",
       "      <th>BackNorm</th>\n",
       "      <td>0.10</td>\n",
       "      <td>0.04</td>\n",
       "      <td>0.03</td>\n",
       "      <td>0.08</td>\n",
       "    </tr>\n",
       "    <tr>\n",
       "      <th>WZShape</th>\n",
       "      <td>0.29</td>\n",
       "      <td>0.00</td>\n",
       "      <td>0.00</td>\n",
       "      <td>0.11</td>\n",
       "    </tr>\n",
       "    <tr>\n",
       "      <th>FakeShape</th>\n",
       "      <td>0.05</td>\n",
       "      <td>0.01</td>\n",
       "      <td>0.07</td>\n",
       "      <td>0.00</td>\n",
       "    </tr>\n",
       "    <tr>\n",
       "      <th>JES</th>\n",
       "      <td>0.58</td>\n",
       "      <td>0.75</td>\n",
       "      <td>0.54</td>\n",
       "      <td>0.54</td>\n",
       "    </tr>\n",
       "    <tr>\n",
       "      <th>btolightJES</th>\n",
       "      <td>0.06</td>\n",
       "      <td>0.68</td>\n",
       "      <td>0.30</td>\n",
       "      <td>0.03</td>\n",
       "    </tr>\n",
       "    <tr>\n",
       "      <th>JER</th>\n",
       "      <td>0.22</td>\n",
       "      <td>0.19</td>\n",
       "      <td>0.09</td>\n",
       "      <td>0.20</td>\n",
       "    </tr>\n",
       "    <tr>\n",
       "      <th>JetRecoEff</th>\n",
       "      <td>0.12</td>\n",
       "      <td>0.07</td>\n",
       "      <td>0.01</td>\n",
       "      <td>0.02</td>\n",
       "    </tr>\n",
       "    <tr>\n",
       "      <th>JVF</th>\n",
       "      <td>0.01</td>\n",
       "      <td>0.00</td>\n",
       "      <td>0.02</td>\n",
       "      <td>0.09</td>\n",
       "    </tr>\n",
       "    <tr>\n",
       "      <th>btagging</th>\n",
       "      <td>0.50</td>\n",
       "      <td>0.07</td>\n",
       "      <td>0.04</td>\n",
       "      <td>0.38</td>\n",
       "    </tr>\n",
       "    <tr>\n",
       "      <th>leptons</th>\n",
       "      <td>0.04</td>\n",
       "      <td>0.13</td>\n",
       "      <td>0.14</td>\n",
       "      <td>0.16</td>\n",
       "    </tr>\n",
       "    <tr>\n",
       "      <th>Etmiss</th>\n",
       "      <td>0.15</td>\n",
       "      <td>0.04</td>\n",
       "      <td>0.01</td>\n",
       "      <td>0.05</td>\n",
       "    </tr>\n",
       "    <tr>\n",
       "      <th>Pileup</th>\n",
       "      <td>0.02</td>\n",
       "      <td>0.01</td>\n",
       "      <td>0.05</td>\n",
       "      <td>0.15</td>\n",
       "    </tr>\n",
       "  </tbody>\n",
       "</table>\n",
       "</div>"
      ],
      "text/plain": [
       "Name           ljets_7  dilep_7  dilep_8  ljets_8\n",
       "Result          172.33   173.79   172.99   172.08\n",
       "Stats             0.75     0.54     0.41     0.39\n",
       "Method            0.11     0.09     0.05     0.13\n",
       "SignalMC          0.22     0.26     0.09     0.16\n",
       "Hadronisation     0.18     0.53     0.22     0.15\n",
       "IFSR              0.32     0.47     0.23     0.08\n",
       "UE                0.15     0.05     0.10     0.08\n",
       "CR                0.11     0.14     0.03     0.19\n",
       "PDF               0.25     0.11     0.05     0.09\n",
       "BackNorm          0.10     0.04     0.03     0.08\n",
       "WZShape           0.29     0.00     0.00     0.11\n",
       "FakeShape         0.05     0.01     0.07     0.00\n",
       "JES               0.58     0.75     0.54     0.54\n",
       "btolightJES       0.06     0.68     0.30     0.03\n",
       "JER               0.22     0.19     0.09     0.20\n",
       "JetRecoEff        0.12     0.07     0.01     0.02\n",
       "JVF               0.01     0.00     0.02     0.09\n",
       "btagging          0.50     0.07     0.04     0.38\n",
       "leptons           0.04     0.13     0.14     0.16\n",
       "Etmiss            0.15     0.04     0.01     0.05\n",
       "Pileup            0.02     0.01     0.05     0.15"
      ]
     },
     "execution_count": 3,
     "metadata": {},
     "output_type": "execute_result"
    }
   ],
   "source": [
    "df.loc['dilep_8'].loc['FakeShape'] = 0.07\n",
    "df.loc['dilep_8'].loc['btagging'] = 0.04\n",
    "df.T"
   ]
  },
  {
   "cell_type": "markdown",
   "metadata": {},
   "source": [
    "The next step is to define the correlations. \n",
    "In the CONF note the columns have swapped order w.r.t. the dilepton paper combination, which changes\n",
    "the order that the correlations are inputed so there is a slight mismatch between what is below and what is in the paper $(\\rho_{03} \\leftrightarrow \\rho_{13})$."
   ]
  },
  {
   "cell_type": "code",
   "execution_count": 4,
   "metadata": {},
   "outputs": [],
   "source": [
    "correlations = {\n",
    "    'Stats': 0,\n",
    "    'Method': 0,\n",
    "    'SignalMC': 1,\n",
    "    'Hadronisation': [1, 1, -1, 1, -1, -1],\n",
    "    'IFSR': [-1, -1, -1, 1, 1, 1],\n",
    "    'UE': [-1, -1, -1, 1, 1, 1],\n",
    "    'CR': [-1, -1, 1, 1, -1, -1],\n",
    "    'PDF': [0.57, -0.29, 0.72, 0.03, 0.72, -0.48],\n",
    "    'BackNorm': [1, 0.23, -0.74, 0.23, -0.77, -0.06],\n",
    "    'WZShape': 0,\n",
    "    'FakeShape': [0.23, 0.20, 0, -0.08, 0, 0],\n",
    "    'JES': [-0.23, 0.06, -0.29, 0.35, 0.18, -0.54],\n",
    "    'btolightJES': 1,\n",
    "    'JER': [-1, 0, 0, 0, 0, 0.22],\n",
    "    'JetRecoEff': 1,\n",
    "    'JVF': [-1, 1, 1, -1, -1, 1],\n",
    "    'btagging': [-0.77, 0, 0, 0, 0, -0.23],\n",
    "    'leptons': [-0.34, -0.52,-0.17, 0.96, -0.08, 0.11],\n",
    "    'Etmiss': [-0.15, 0.25, 0.22, -0.24, -0.12, 0.97],\n",
    "    'Pileup': 0,\n",
    "}"
   ]
  },
  {
   "cell_type": "markdown",
   "metadata": {},
   "source": [
    "Because this is a bit messy (ideas to make this cleaner are welcome!) we will check that the only key that exists in the data but not in the correlations is the `Result` column."
   ]
  },
  {
   "cell_type": "code",
   "execution_count": 5,
   "metadata": {},
   "outputs": [
    {
     "data": {
      "text/plain": [
       "Index(['Result'], dtype='object')"
      ]
     },
     "execution_count": 5,
     "metadata": {},
     "output_type": "execute_result"
    }
   ],
   "source": [
    "df.columns ^ correlations"
   ]
  },
  {
   "cell_type": "markdown",
   "metadata": {},
   "source": [
    "Ok, we entered a correlation for each of the systematic sources so we can now go ahead and perform the combination. To begin with we will use all four measurements, although in the end the CONF note only uses three."
   ]
  },
  {
   "cell_type": "code",
   "execution_count": 6,
   "metadata": {},
   "outputs": [
    {
     "data": {
      "text/plain": [
       "172.49914976824516"
      ]
     },
     "execution_count": 6,
     "metadata": {},
     "output_type": "execute_result"
    }
   ],
   "source": [
    "combination = Blue(df, correlations)\n",
    "combination.combined_result"
   ]
  },
  {
   "cell_type": "markdown",
   "metadata": {},
   "source": [
    "Combining the four measurements gives us a top mass of ~172.5 GeV. \n",
    "Let's look at the uncertainties."
   ]
  },
  {
   "cell_type": "code",
   "execution_count": 7,
   "metadata": {},
   "outputs": [
    {
     "data": {
      "text/plain": [
       "Stats            0.27\n",
       "Method           0.06\n",
       "SignalMC         0.14\n",
       "Hadronisation    0.06\n",
       "IFSR             0.07\n",
       "UE               0.05\n",
       "CR               0.08\n",
       "PDF              0.07\n",
       "BackNorm         0.03\n",
       "WZShape          0.07\n",
       "FakeShape        0.03\n",
       "JES              0.22\n",
       "btolightJES      0.14\n",
       "JER              0.11\n",
       "JetRecoEff       0.03\n",
       "JVF              0.05\n",
       "btagging         0.17\n",
       "leptons          0.09\n",
       "Etmiss           0.04\n",
       "Pileup           0.06\n",
       "dtype: float64"
      ]
     },
     "execution_count": 7,
     "metadata": {},
     "output_type": "execute_result"
    }
   ],
   "source": [
    "uncerts = pd.Series(combination.combined_uncertainties)[df.columns.drop('Result')]\n",
    "np.round(uncerts, 2)"
   ]
  },
  {
   "cell_type": "code",
   "execution_count": 8,
   "metadata": {},
   "outputs": [],
   "source": [
    "total = np.sqrt((uncerts ** 2).sum())\n",
    "syst = np.sqrt((uncerts.drop('Stats') ** 2).sum())"
   ]
  },
  {
   "cell_type": "markdown",
   "metadata": {},
   "source": [
    "and let's print the results out with the uncertainty:"
   ]
  },
  {
   "cell_type": "code",
   "execution_count": 9,
   "metadata": {},
   "outputs": [
    {
     "name": "stdout",
     "output_type": "stream",
     "text": [
      "Combined result = 172.50 +- 0.27 (stat) +- 0.42 (syst) GeV\n",
      "Combined result = 172.50 +- 0.50 GeV\n"
     ]
    }
   ],
   "source": [
    "print('Combined result = '\n",
    "      f'{combination.combined_result:.2f} '\n",
    "      f'+- {uncerts[\"Stats\"]:.2f} (stat) '\n",
    "      f'+- {syst:.2f} (syst) GeV')\n",
    "print('Combined result = '\n",
    "      f'{combination.combined_result:.2f} '\n",
    "      f'+- {total:.2f} GeV')"
   ]
  },
  {
   "cell_type": "markdown",
   "metadata": {},
   "source": [
    "This can be compared to the final point in Figure 8 (a), which shows the results from combining all four measurements. We can also check the compatibility of the measurements:"
   ]
  },
  {
   "cell_type": "code",
   "execution_count": 10,
   "metadata": {},
   "outputs": [
    {
     "data": {
      "text/plain": [
       "0.77437217885707621"
      ]
     },
     "execution_count": 10,
     "metadata": {},
     "output_type": "execute_result"
    }
   ],
   "source": [
    "from scipy.stats import chi2\n",
    "chi2.sf(*combination.chi2_ndf)"
   ]
  },
  {
   "cell_type": "markdown",
   "metadata": {},
   "source": [
    "We see a compatibility of 77%. We can also look at the correlations between each individual measurement. We will make this into a pandas.DataFrame to make things a bit clearer and reorder the rows/columns to be in the same order as the CONF note."
   ]
  },
  {
   "cell_type": "code",
   "execution_count": 11,
   "metadata": {},
   "outputs": [
    {
     "data": {
      "text/html": [
       "<div>\n",
       "<style>\n",
       "    .dataframe thead tr:only-child th {\n",
       "        text-align: right;\n",
       "    }\n",
       "\n",
       "    .dataframe thead th {\n",
       "        text-align: left;\n",
       "    }\n",
       "\n",
       "    .dataframe tbody tr th {\n",
       "        vertical-align: top;\n",
       "    }\n",
       "</style>\n",
       "<table border=\"1\" class=\"dataframe\">\n",
       "  <thead>\n",
       "    <tr style=\"text-align: right;\">\n",
       "      <th>Name</th>\n",
       "      <th>dilep_7</th>\n",
       "      <th>ljets_7</th>\n",
       "      <th>dilep_8</th>\n",
       "      <th>ljets_8</th>\n",
       "    </tr>\n",
       "    <tr>\n",
       "      <th>Name</th>\n",
       "      <th></th>\n",
       "      <th></th>\n",
       "      <th></th>\n",
       "      <th></th>\n",
       "    </tr>\n",
       "  </thead>\n",
       "  <tbody>\n",
       "    <tr>\n",
       "      <th>dilep_7</th>\n",
       "      <td>1.00</td>\n",
       "      <td>-0.07</td>\n",
       "      <td>0.52</td>\n",
       "      <td>0.06</td>\n",
       "    </tr>\n",
       "    <tr>\n",
       "      <th>ljets_7</th>\n",
       "      <td>-0.07</td>\n",
       "      <td>1.00</td>\n",
       "      <td>0.00</td>\n",
       "      <td>-0.07</td>\n",
       "    </tr>\n",
       "    <tr>\n",
       "      <th>dilep_8</th>\n",
       "      <td>0.52</td>\n",
       "      <td>0.00</td>\n",
       "      <td>1.00</td>\n",
       "      <td>-0.19</td>\n",
       "    </tr>\n",
       "    <tr>\n",
       "      <th>ljets_8</th>\n",
       "      <td>0.06</td>\n",
       "      <td>-0.07</td>\n",
       "      <td>-0.19</td>\n",
       "      <td>1.00</td>\n",
       "    </tr>\n",
       "  </tbody>\n",
       "</table>\n",
       "</div>"
      ],
      "text/plain": [
       "Name     dilep_7  ljets_7  dilep_8  ljets_8\n",
       "Name                                       \n",
       "dilep_7     1.00    -0.07     0.52     0.06\n",
       "ljets_7    -0.07     1.00     0.00    -0.07\n",
       "dilep_8     0.52     0.00     1.00    -0.19\n",
       "ljets_8     0.06    -0.07    -0.19     1.00"
      ]
     },
     "execution_count": 11,
     "metadata": {},
     "output_type": "execute_result"
    }
   ],
   "source": [
    "reorder_cols = ['dilep_7', 'ljets_7', 'dilep_8', 'ljets_8']\n",
    "measurement_names = combination.data.index\n",
    "_ = pd.DataFrame(\n",
    "    combination.total_correlations, \n",
    "    columns=measurement_names,\n",
    "    index=measurement_names\n",
    "    ).loc[reorder_cols][reorder_cols]\n",
    "np.round(_, 2)"
   ]
  },
  {
   "cell_type": "markdown",
   "metadata": {},
   "source": [
    "These correlations can be compared with those given in Table 6 of the CONF note"
   ]
  },
  {
   "cell_type": "code",
   "execution_count": 12,
   "metadata": {},
   "outputs": [
    {
     "data": {
      "text/plain": [
       "Name\n",
       "dilep_7   -0.02\n",
       "ljets_7    0.17\n",
       "dilep_8    0.45\n",
       "ljets_8    0.40\n",
       "dtype: float64"
      ]
     },
     "execution_count": 12,
     "metadata": {},
     "output_type": "execute_result"
    }
   ],
   "source": [
    "np.round(pd.Series(\n",
    "    combination.weights, \n",
    "    index=combination.data.index\n",
    ")[reorder_cols], 2)"
   ]
  },
  {
   "cell_type": "markdown",
   "metadata": {},
   "source": [
    "Table 6 of the CONF note only shows the weights for \"final\" combination that doesn't include the 7 TeV dilepton measurement, although it can been seen that the weight given to this measurement is small, and the lepton + jets weights are the same with or without including this.\n",
    "\n",
    "We can also test the case in which we combine as if looking at two observables, the top mass in the $\\ell+$jets channel, and the top mass in the dilepton channel. The results are: "
   ]
  },
  {
   "cell_type": "code",
   "execution_count": 13,
   "metadata": {},
   "outputs": [
    {
     "data": {
      "text/plain": [
       "{'dilep': 173.01900964359118, 'ljets': 172.10883942618131}"
      ]
     },
     "execution_count": 13,
     "metadata": {},
     "output_type": "execute_result"
    }
   ],
   "source": [
    "combination.observables = {\n",
    "    'ljets': ['ljets_7', 'ljets_8'],\n",
    "    'dilep': ['dilep_7', 'dilep_8']\n",
    "}\n",
    "combination.combined_result"
   ]
  },
  {
   "cell_type": "markdown",
   "metadata": {},
   "source": [
    "and we can check the correlations between these two new observables:"
   ]
  },
  {
   "cell_type": "code",
   "execution_count": 14,
   "metadata": {},
   "outputs": [
    {
     "data": {
      "text/plain": [
       "-0.14799705467325977"
      ]
     },
     "execution_count": 14,
     "metadata": {},
     "output_type": "execute_result"
    }
   ],
   "source": [
    "combination.observable_correlations[1,0]"
   ]
  },
  {
   "cell_type": "code",
   "execution_count": 15,
   "metadata": {},
   "outputs": [],
   "source": [
    "# Here we reset the observables to None (which is a single observable)\n",
    "combination.observables = None"
   ]
  },
  {
   "cell_type": "markdown",
   "metadata": {},
   "source": [
    "The final combination does not use the 7 TeV dilepton measurement, we can get this set of measurements as follows:"
   ]
  },
  {
   "cell_type": "code",
   "execution_count": 16,
   "metadata": {},
   "outputs": [
    {
     "data": {
      "text/plain": [
       "172.51573540994275"
      ]
     },
     "execution_count": 16,
     "metadata": {},
     "output_type": "execute_result"
    }
   ],
   "source": [
    "final_comb = combination[['ljets_7', 'dilep_8', 'ljets_8']]\n",
    "final_comb.combined_result"
   ]
  },
  {
   "cell_type": "markdown",
   "metadata": {},
   "source": [
    "We get a slightly different value from the one quoted in the CONF note but generally consistent. Let us look at the uncertainties."
   ]
  },
  {
   "cell_type": "code",
   "execution_count": 17,
   "metadata": {},
   "outputs": [
    {
     "data": {
      "text/plain": [
       "Stats            0.27\n",
       "Method           0.06\n",
       "SignalMC         0.14\n",
       "Hadronisation    0.07\n",
       "IFSR             0.08\n",
       "UE               0.05\n",
       "CR               0.08\n",
       "PDF              0.07\n",
       "BackNorm         0.03\n",
       "WZShape          0.07\n",
       "FakeShape        0.03\n",
       "JES              0.22\n",
       "btolightJES      0.15\n",
       "JER              0.10\n",
       "JetRecoEff       0.03\n",
       "JVF              0.05\n",
       "btagging         0.17\n",
       "leptons          0.09\n",
       "Etmiss           0.04\n",
       "Pileup           0.06\n",
       "dtype: float64"
      ]
     },
     "execution_count": 17,
     "metadata": {},
     "output_type": "execute_result"
    }
   ],
   "source": [
    "final_uncerts = pd.Series(final_comb.combined_uncertainties)\n",
    "\n",
    "np.round(final_uncerts[final_comb.data.columns.drop('Result')], 2)"
   ]
  },
  {
   "cell_type": "markdown",
   "metadata": {},
   "source": [
    "These numbers are almost the same as in the CONF note, with only the IFSR and JES systematics being slightly different. Let's print the final combined result and the $\\chi^2$ probability of the combination!"
   ]
  },
  {
   "cell_type": "code",
   "execution_count": 18,
   "metadata": {},
   "outputs": [
    {
     "name": "stdout",
     "output_type": "stream",
     "text": [
      "Combined result = 172.52 +- 0.27 (stat) +- 0.42 (syst) GeV\n",
      "Combined result = 172.52 +- 0.50 GeV\n",
      "Chi^2 = 0.49, NDF = 2, p-value = 0.78\n"
     ]
    }
   ],
   "source": [
    "final_total = np.sqrt((final_uncerts ** 2).sum())\n",
    "final_syst = np.sqrt((final_uncerts.drop('Stats') ** 2).sum())\n",
    "print('Combined result = '\n",
    "      f'{final_comb.combined_result:.2f} '\n",
    "      f'+- {uncerts[\"Stats\"]:.2f} (stat) '\n",
    "      f'+- {syst:.2f} (syst) GeV')\n",
    "print('Combined result = '\n",
    "      f'{final_comb.combined_result:.2f} '\n",
    "      f'+- {total:.2f} GeV')\n",
    "c2, ndf = final_comb.chi2_ndf\n",
    "print(f'Chi^2 = {c2:.2f}, NDF = {ndf}, p-value = {chi2.sf(c2, ndf):.2f}')"
   ]
  }
 ],
 "metadata": {
  "kernelspec": {
   "display_name": "Python [conda env:new_root_numpy]",
   "language": "python",
   "name": "conda-env-new_root_numpy-py"
  },
  "language_info": {
   "codemirror_mode": {
    "name": "ipython",
    "version": 3
   },
   "file_extension": ".py",
   "mimetype": "text/x-python",
   "name": "python",
   "nbconvert_exporter": "python",
   "pygments_lexer": "ipython3",
   "version": "3.6.0"
  }
 },
 "nbformat": 4,
 "nbformat_minor": 2
}
