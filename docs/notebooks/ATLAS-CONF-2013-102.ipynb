{
 "cells": [
  {
   "cell_type": "markdown",
   "metadata": {},
   "source": [
    "# [ATLAS-CONF-2013-102](https://cds.cern.ch/record/1601811/files/ATLAS-CONF-2013-102.pdf)"
   ]
  },
  {
   "cell_type": "markdown",
   "metadata": {},
   "source": [
    "## ATLAS & CMS top mass combination at $\\sqrt{s} = 7$ TeV\n",
    "\n",
    "This notebook reproduces the results of the ATLAS and CMS top mass combination performed with 7 TeV measurements. The note referenced above includes many details of the combination and many cross-checks which we will attempt to reproduce.\n",
    "\n",
    "Let's begin with our imports, we are going to make some plots so we'll include matplotlib."
   ]
  },
  {
   "cell_type": "code",
   "execution_count": 1,
   "metadata": {
    "tags": []
   },
   "outputs": [],
   "source": [
    "%matplotlib inline"
   ]
  },
  {
   "cell_type": "code",
   "execution_count": 2,
   "metadata": {
    "tags": []
   },
   "outputs": [],
   "source": [
    "from blue import Blue\n",
    "import matplotlib.pyplot as plt\n",
    "import numpy as np\n",
    "import pandas as pd"
   ]
  },
  {
   "cell_type": "markdown",
   "metadata": {},
   "source": [
    "Step one is to read in the data, which we have stored in a csv file. Let's read it in with `pandas` and have a look at the dataframe it produces."
   ]
  },
  {
   "cell_type": "code",
   "execution_count": 3,
   "metadata": {},
   "outputs": [
    {
     "data": {
      "text/html": [
       "<div>\n",
       "<style scoped>\n",
       "    .dataframe tbody tr th:only-of-type {\n",
       "        vertical-align: middle;\n",
       "    }\n",
       "\n",
       "    .dataframe tbody tr th {\n",
       "        vertical-align: top;\n",
       "    }\n",
       "\n",
       "    .dataframe thead th {\n",
       "        text-align: right;\n",
       "    }\n",
       "</style>\n",
       "<table border=\"1\" class=\"dataframe\">\n",
       "  <thead>\n",
       "    <tr style=\"text-align: right;\">\n",
       "      <th>Exp</th>\n",
       "      <th>ATLASljets</th>\n",
       "      <th>ATLASdilep</th>\n",
       "      <th>CMSljets</th>\n",
       "      <th>CMSdilep</th>\n",
       "      <th>CMSalljets</th>\n",
       "      <th>rho_exp</th>\n",
       "      <th>rho_lhc</th>\n",
       "    </tr>\n",
       "  </thead>\n",
       "  <tbody>\n",
       "    <tr>\n",
       "      <th>Result</th>\n",
       "      <td>172.31</td>\n",
       "      <td>173.09</td>\n",
       "      <td>173.49</td>\n",
       "      <td>172.50</td>\n",
       "      <td>173.49</td>\n",
       "      <td>0.0</td>\n",
       "      <td>0.0</td>\n",
       "    </tr>\n",
       "    <tr>\n",
       "      <th>JSF</th>\n",
       "      <td>0.72</td>\n",
       "      <td>0.00</td>\n",
       "      <td>0.33</td>\n",
       "      <td>0.00</td>\n",
       "      <td>0.00</td>\n",
       "      <td>0.0</td>\n",
       "      <td>0.0</td>\n",
       "    </tr>\n",
       "    <tr>\n",
       "      <th>uJES</th>\n",
       "      <td>0.61</td>\n",
       "      <td>0.73</td>\n",
       "      <td>0.24</td>\n",
       "      <td>0.69</td>\n",
       "      <td>0.69</td>\n",
       "      <td>1.0</td>\n",
       "      <td>0.0</td>\n",
       "    </tr>\n",
       "    <tr>\n",
       "      <th>insituJES</th>\n",
       "      <td>0.29</td>\n",
       "      <td>0.31</td>\n",
       "      <td>0.02</td>\n",
       "      <td>0.35</td>\n",
       "      <td>0.35</td>\n",
       "      <td>1.0</td>\n",
       "      <td>0.0</td>\n",
       "    </tr>\n",
       "    <tr>\n",
       "      <th>intercalibJES</th>\n",
       "      <td>0.19</td>\n",
       "      <td>0.39</td>\n",
       "      <td>0.01</td>\n",
       "      <td>0.08</td>\n",
       "      <td>0.08</td>\n",
       "      <td>1.0</td>\n",
       "      <td>0.5</td>\n",
       "    </tr>\n",
       "    <tr>\n",
       "      <th>flavourJES</th>\n",
       "      <td>0.36</td>\n",
       "      <td>0.02</td>\n",
       "      <td>0.11</td>\n",
       "      <td>0.58</td>\n",
       "      <td>0.58</td>\n",
       "      <td>1.0</td>\n",
       "      <td>0.0</td>\n",
       "    </tr>\n",
       "    <tr>\n",
       "      <th>bJES</th>\n",
       "      <td>0.08</td>\n",
       "      <td>0.71</td>\n",
       "      <td>0.61</td>\n",
       "      <td>0.76</td>\n",
       "      <td>0.49</td>\n",
       "      <td>1.0</td>\n",
       "      <td>0.5</td>\n",
       "    </tr>\n",
       "    <tr>\n",
       "      <th>MC</th>\n",
       "      <td>0.33</td>\n",
       "      <td>0.48</td>\n",
       "      <td>0.02</td>\n",
       "      <td>0.04</td>\n",
       "      <td>0.19</td>\n",
       "      <td>1.0</td>\n",
       "      <td>1.0</td>\n",
       "    </tr>\n",
       "    <tr>\n",
       "      <th>Rad</th>\n",
       "      <td>0.45</td>\n",
       "      <td>0.37</td>\n",
       "      <td>0.30</td>\n",
       "      <td>0.58</td>\n",
       "      <td>0.33</td>\n",
       "      <td>1.0</td>\n",
       "      <td>1.0</td>\n",
       "    </tr>\n",
       "    <tr>\n",
       "      <th>CR</th>\n",
       "      <td>0.32</td>\n",
       "      <td>0.29</td>\n",
       "      <td>0.54</td>\n",
       "      <td>0.13</td>\n",
       "      <td>0.15</td>\n",
       "      <td>1.0</td>\n",
       "      <td>1.0</td>\n",
       "    </tr>\n",
       "    <tr>\n",
       "      <th>UE</th>\n",
       "      <td>0.12</td>\n",
       "      <td>0.42</td>\n",
       "      <td>0.15</td>\n",
       "      <td>0.05</td>\n",
       "      <td>0.20</td>\n",
       "      <td>1.0</td>\n",
       "      <td>1.0</td>\n",
       "    </tr>\n",
       "    <tr>\n",
       "      <th>PDF</th>\n",
       "      <td>0.17</td>\n",
       "      <td>0.12</td>\n",
       "      <td>0.07</td>\n",
       "      <td>0.09</td>\n",
       "      <td>0.06</td>\n",
       "      <td>1.0</td>\n",
       "      <td>1.0</td>\n",
       "    </tr>\n",
       "    <tr>\n",
       "      <th>Jet</th>\n",
       "      <td>0.23</td>\n",
       "      <td>0.22</td>\n",
       "      <td>0.24</td>\n",
       "      <td>0.18</td>\n",
       "      <td>0.28</td>\n",
       "      <td>1.0</td>\n",
       "      <td>0.0</td>\n",
       "    </tr>\n",
       "    <tr>\n",
       "      <th>btagging</th>\n",
       "      <td>0.81</td>\n",
       "      <td>0.46</td>\n",
       "      <td>0.12</td>\n",
       "      <td>0.09</td>\n",
       "      <td>0.06</td>\n",
       "      <td>1.0</td>\n",
       "      <td>0.5</td>\n",
       "    </tr>\n",
       "    <tr>\n",
       "      <th>Lepton</th>\n",
       "      <td>0.04</td>\n",
       "      <td>0.12</td>\n",
       "      <td>0.02</td>\n",
       "      <td>0.14</td>\n",
       "      <td>0.00</td>\n",
       "      <td>1.0</td>\n",
       "      <td>0.0</td>\n",
       "    </tr>\n",
       "    <tr>\n",
       "      <th>MCBkg</th>\n",
       "      <td>0.00</td>\n",
       "      <td>0.14</td>\n",
       "      <td>0.13</td>\n",
       "      <td>0.05</td>\n",
       "      <td>0.00</td>\n",
       "      <td>1.0</td>\n",
       "      <td>1.0</td>\n",
       "    </tr>\n",
       "    <tr>\n",
       "      <th>DataBkg</th>\n",
       "      <td>0.10</td>\n",
       "      <td>0.00</td>\n",
       "      <td>0.00</td>\n",
       "      <td>0.00</td>\n",
       "      <td>0.13</td>\n",
       "      <td>0.0</td>\n",
       "      <td>0.0</td>\n",
       "    </tr>\n",
       "    <tr>\n",
       "      <th>Method</th>\n",
       "      <td>0.13</td>\n",
       "      <td>0.07</td>\n",
       "      <td>0.06</td>\n",
       "      <td>0.40</td>\n",
       "      <td>0.13</td>\n",
       "      <td>0.0</td>\n",
       "      <td>0.0</td>\n",
       "    </tr>\n",
       "    <tr>\n",
       "      <th>MPI</th>\n",
       "      <td>0.03</td>\n",
       "      <td>0.01</td>\n",
       "      <td>0.07</td>\n",
       "      <td>0.11</td>\n",
       "      <td>0.06</td>\n",
       "      <td>1.0</td>\n",
       "      <td>1.0</td>\n",
       "    </tr>\n",
       "    <tr>\n",
       "      <th>Stats</th>\n",
       "      <td>0.23</td>\n",
       "      <td>0.64</td>\n",
       "      <td>0.27</td>\n",
       "      <td>0.43</td>\n",
       "      <td>0.69</td>\n",
       "      <td>0.0</td>\n",
       "      <td>0.0</td>\n",
       "    </tr>\n",
       "  </tbody>\n",
       "</table>\n",
       "</div>"
      ],
      "text/plain": [
       "Exp            ATLASljets  ATLASdilep  CMSljets  CMSdilep  CMSalljets  \\\n",
       "Result             172.31      173.09    173.49    172.50      173.49   \n",
       "JSF                  0.72        0.00      0.33      0.00        0.00   \n",
       "uJES                 0.61        0.73      0.24      0.69        0.69   \n",
       "insituJES            0.29        0.31      0.02      0.35        0.35   \n",
       "intercalibJES        0.19        0.39      0.01      0.08        0.08   \n",
       "flavourJES           0.36        0.02      0.11      0.58        0.58   \n",
       "bJES                 0.08        0.71      0.61      0.76        0.49   \n",
       "MC                   0.33        0.48      0.02      0.04        0.19   \n",
       "Rad                  0.45        0.37      0.30      0.58        0.33   \n",
       "CR                   0.32        0.29      0.54      0.13        0.15   \n",
       "UE                   0.12        0.42      0.15      0.05        0.20   \n",
       "PDF                  0.17        0.12      0.07      0.09        0.06   \n",
       "Jet                  0.23        0.22      0.24      0.18        0.28   \n",
       "btagging             0.81        0.46      0.12      0.09        0.06   \n",
       "Lepton               0.04        0.12      0.02      0.14        0.00   \n",
       "MCBkg                0.00        0.14      0.13      0.05        0.00   \n",
       "DataBkg              0.10        0.00      0.00      0.00        0.13   \n",
       "Method               0.13        0.07      0.06      0.40        0.13   \n",
       "MPI                  0.03        0.01      0.07      0.11        0.06   \n",
       "Stats                0.23        0.64      0.27      0.43        0.69   \n",
       "\n",
       "Exp            rho_exp  rho_lhc  \n",
       "Result             0.0      0.0  \n",
       "JSF                0.0      0.0  \n",
       "uJES               1.0      0.0  \n",
       "insituJES          1.0      0.0  \n",
       "intercalibJES      1.0      0.5  \n",
       "flavourJES         1.0      0.0  \n",
       "bJES               1.0      0.5  \n",
       "MC                 1.0      1.0  \n",
       "Rad                1.0      1.0  \n",
       "CR                 1.0      1.0  \n",
       "UE                 1.0      1.0  \n",
       "PDF                1.0      1.0  \n",
       "Jet                1.0      0.0  \n",
       "btagging           1.0      0.5  \n",
       "Lepton             1.0      0.0  \n",
       "MCBkg              1.0      1.0  \n",
       "DataBkg            0.0      0.0  \n",
       "Method             0.0      0.0  \n",
       "MPI                1.0      1.0  \n",
       "Stats              0.0      0.0  "
      ]
     },
     "execution_count": 3,
     "metadata": {},
     "output_type": "execute_result"
    }
   ],
   "source": [
    "df = pd.read_csv('data/lhc_top_mass_7tev.csv', index_col='Exp')\n",
    "df.T"
   ]
  },
  {
   "cell_type": "markdown",
   "metadata": {},
   "source": [
    "The data contains five measurements, two from ATLAS and three from CMS. Two of the rows in the dataframe show the assigned correlations both within a single experiment (rho_exp) and those between the two experiments (rho_lhc). We will seperate these from the other rows in the table and use them to create correlation matrices."
   ]
  },
  {
   "cell_type": "code",
   "execution_count": 4,
   "metadata": {
    "tags": []
   },
   "outputs": [],
   "source": [
    "input_correlation = df.loc[['rho_exp', 'rho_lhc']].drop('Result', axis=1)\n",
    "df = df.drop(['rho_exp', 'rho_lhc'])"
   ]
  },
  {
   "cell_type": "markdown",
   "metadata": {},
   "source": [
    "df no only contains the results from the five measurements and the correlations are now stored in a seperate dataframe. We will define a couple of helper functions to construct our correlation matrices. The first simply takes in a values of rho_exp and rho_lhc and constructs a matrix based on those inputs. The second loops through our `input_correlation` dataframe and returns a dictionary mapping the names of the uncertainties to the correlation matrices."
   ]
  },
  {
   "cell_type": "code",
   "execution_count": 5,
   "metadata": {
    "tags": []
   },
   "outputs": [],
   "source": [
    "def make_correlation_matrix(rho_exp, rho_lhc):\n",
    "    n_atlas, n_cms = 2, 3\n",
    "    rho_atlas = np.full((n_atlas, n_atlas), rho_exp)\n",
    "    rho_cms = np.full((n_cms, n_cms), rho_exp)\n",
    "    rho_inter = np.full((n_atlas, n_cms), rho_lhc)\n",
    "    corr_mat = np.block([\n",
    "        [rho_atlas, rho_inter],\n",
    "        [rho_inter.T, rho_cms]\n",
    "    ])\n",
    "    np.fill_diagonal(corr_mat, 1)\n",
    "    return corr_mat\n",
    "\n",
    "def make_correlation_matrices(data):\n",
    "    out = {}\n",
    "    for i in data.columns:\n",
    "        rho_exp = data.loc['rho_exp'][i]\n",
    "        rho_lhc = data.loc['rho_lhc'][i]\n",
    "        out[i] = make_correlation_matrix(rho_exp, rho_lhc)\n",
    "    return out"
   ]
  },
  {
   "cell_type": "code",
   "execution_count": 6,
   "metadata": {
    "tags": []
   },
   "outputs": [],
   "source": [
    "correlation = make_correlation_matrices(input_correlation)"
   ]
  },
  {
   "cell_type": "markdown",
   "metadata": {},
   "source": [
    "### LHC combination"
   ]
  },
  {
   "cell_type": "markdown",
   "metadata": {},
   "source": [
    "Now that we have our correlations in the right format, we can create an instance of the `Blue` class and immediately look at the combined result."
   ]
  },
  {
   "cell_type": "code",
   "execution_count": 7,
   "metadata": {},
   "outputs": [
    {
     "data": {
      "text/plain": [
       "173.28879459299242"
      ]
     },
     "execution_count": 7,
     "metadata": {},
     "output_type": "execute_result"
    }
   ],
   "source": [
    "blue = Blue(df, correlation)\n",
    "blue.combined_result"
   ]
  },
  {
   "cell_type": "markdown",
   "metadata": {},
   "source": [
    "which can be compared to the quoted result in the note of 173.29 GeV. We can get each of the combined uncertainties and look at them:"
   ]
  },
  {
   "cell_type": "code",
   "execution_count": 8,
   "metadata": {},
   "outputs": [
    {
     "data": {
      "text/plain": [
       "JSF              0.257810\n",
       "uJES             0.288117\n",
       "insituJES        0.096643\n",
       "intercalibJES    0.067218\n",
       "flavourJES       0.165050\n",
       "bJES             0.435214\n",
       "MC               0.141823\n",
       "Rad              0.320085\n",
       "CR               0.431148\n",
       "UE               0.171953\n",
       "PDF              0.090729\n",
       "Jet              0.199551\n",
       "btagging         0.248844\n",
       "Lepton           0.013480\n",
       "MCBkg            0.079656\n",
       "DataBkg          0.035857\n",
       "Method           0.063507\n",
       "MPI              0.053326\n",
       "Stats            0.230016\n",
       "dtype: float64"
      ]
     },
     "execution_count": 8,
     "metadata": {},
     "output_type": "execute_result"
    }
   ],
   "source": [
    "uncertainties = pd.Series(blue.combined_uncertainties)\n",
    "uncertainties"
   ]
  },
  {
   "cell_type": "markdown",
   "metadata": {},
   "source": [
    "and then compute the combined systematic uncertainty by adding up all the uncertainties except the statistical uncertainty in quadrature."
   ]
  },
  {
   "cell_type": "code",
   "execution_count": 9,
   "metadata": {},
   "outputs": [
    {
     "data": {
      "text/plain": [
       "0.9179750264866068"
      ]
     },
     "execution_count": 9,
     "metadata": {},
     "output_type": "execute_result"
    }
   ],
   "source": [
    "total_syst = np.sqrt((uncertainties.drop('Stats') ** 2).sum())\n",
    "total_syst"
   ]
  },
  {
   "cell_type": "markdown",
   "metadata": {},
   "source": [
    "So the combined result, including uncertainties, is:"
   ]
  },
  {
   "cell_type": "code",
   "execution_count": 10,
   "metadata": {},
   "outputs": [
    {
     "name": "stdout",
     "output_type": "stream",
     "text": [
      "m_top = 173.29 +/- 0.23 (stat) +/- 0.92 (syst)\n"
     ]
    }
   ],
   "source": [
    "print(f'm_top = {blue.combined_result:.2f}'\n",
    "      f' +/- {uncertainties[\"Stats\"]:.2f} (stat)' \n",
    "      f' +/- {total_syst:.2f} (syst)')"
   ]
  },
  {
   "cell_type": "markdown",
   "metadata": {},
   "source": [
    "The $\\chi^2$ and number-of-degrees-of-freedom can obtained (compare with the note values of 1.8 and 4):"
   ]
  },
  {
   "cell_type": "code",
   "execution_count": 11,
   "metadata": {},
   "outputs": [
    {
     "data": {
      "text/plain": [
       "(1.7994655945280245, 4)"
      ]
     },
     "execution_count": 11,
     "metadata": {},
     "output_type": "execute_result"
    }
   ],
   "source": [
    "blue.chi2_ndf"
   ]
  },
  {
   "cell_type": "markdown",
   "metadata": {},
   "source": [
    "and we can then use `scipy` to covert those into a p-value (compare the note value of 77%)"
   ]
  },
  {
   "cell_type": "code",
   "execution_count": 12,
   "metadata": {},
   "outputs": [
    {
     "data": {
      "text/plain": [
       "0.7725801249272244"
      ]
     },
     "execution_count": 12,
     "metadata": {},
     "output_type": "execute_result"
    }
   ],
   "source": [
    "from scipy.stats import chi2\n",
    "chi2.sf(*blue.chi2_ndf)"
   ]
  },
  {
   "cell_type": "markdown",
   "metadata": {},
   "source": [
    "The BLUE weights can be obtained with:"
   ]
  },
  {
   "cell_type": "code",
   "execution_count": 13,
   "metadata": {},
   "outputs": [
    {
     "data": {
      "text/plain": [
       "array([ 0.22669616,  0.03663751,  0.6047318 , -0.08176875,  0.21370329])"
      ]
     },
     "execution_count": 13,
     "metadata": {},
     "output_type": "execute_result"
    }
   ],
   "source": [
    "blue.weights"
   ]
  },
  {
   "cell_type": "markdown",
   "metadata": {},
   "source": [
    "but let's make a nice plot of them like in the note, we use `pandas` built in plotting here (with `matplotlib`) to make a simple bar chart (compare with Fig. 1(a))"
   ]
  },
  {
   "cell_type": "code",
   "execution_count": 14,
   "metadata": {},
   "outputs": [
    {
     "data": {
      "image/png": "[encoded data removed]",
      "text/plain": [
       "<Figure size 432x288 with 1 Axes>"
      ]
     },
     "metadata": {
      "needs_background": "light"
     },
     "output_type": "display_data"
    }
   ],
   "source": [
    "pd.Series(blue.weights * 100, index=blue.data.index).sort_values().plot.barh()\n",
    "plt.vlines([0], -1, 5, linestyle='--')\n",
    "ax = plt.gca()\n",
    "ax.set(xlim=(-25, 100), xlabel='BLUE combination coefficient [%]');"
   ]
  },
  {
   "cell_type": "markdown",
   "metadata": {},
   "source": [
    "Likewise we can look at the pulls of each measurement:"
   ]
  },
  {
   "cell_type": "code",
   "execution_count": 15,
   "metadata": {},
   "outputs": [
    {
     "data": {
      "text/plain": [
       "[(-1.0, 1.0), Text(0.5, 0, 'Pull')]"
      ]
     },
     "execution_count": 15,
     "metadata": {},
     "output_type": "execute_result"
    },
    {
     "data": {
      "image/png": "[encoded data removed]",
      "text/plain": [
       "<Figure size 432x288 with 1 Axes>"
      ]
     },
     "metadata": {
      "needs_background": "light"
     },
     "output_type": "display_data"
    }
   ],
   "source": [
    "blue.pulls.sort_values().plot.barh()\n",
    "plt.vlines([0], -1, 5, linestyle='--')\n",
    "ax = plt.gca()\n",
    "ax.set(xlim=(-1, 1), xlabel='Pull')"
   ]
  },
  {
   "cell_type": "markdown",
   "metadata": {},
   "source": [
    "In both cases we have sorted the data before plotting so we plot in ascending order.\n",
    "\n",
    "Table 2 of the note contains information about the various weights that can be inspected to try to assign an importance of each measurement to the combination. We look at the BLUE weights, the intrinsic information weights (IIW) and the marginal information weights (MIW):"
   ]
  },
  {
   "cell_type": "code",
   "execution_count": 16,
   "metadata": {},
   "outputs": [
    {
     "data": {
      "text/html": [
       "<div>\n",
       "<style scoped>\n",
       "    .dataframe tbody tr th:only-of-type {\n",
       "        vertical-align: middle;\n",
       "    }\n",
       "\n",
       "    .dataframe tbody tr th {\n",
       "        vertical-align: top;\n",
       "    }\n",
       "\n",
       "    .dataframe thead th {\n",
       "        text-align: right;\n",
       "    }\n",
       "</style>\n",
       "<table border=\"1\" class=\"dataframe\">\n",
       "  <thead>\n",
       "    <tr style=\"text-align: right;\">\n",
       "      <th></th>\n",
       "      <th>BLUE weights</th>\n",
       "      <th>IIW</th>\n",
       "      <th>MIW</th>\n",
       "    </tr>\n",
       "    <tr>\n",
       "      <th>Exp</th>\n",
       "      <th></th>\n",
       "      <th></th>\n",
       "      <th></th>\n",
       "    </tr>\n",
       "  </thead>\n",
       "  <tbody>\n",
       "    <tr>\n",
       "      <th>ATLASljets</th>\n",
       "      <td>22.7</td>\n",
       "      <td>37.4</td>\n",
       "      <td>8.2</td>\n",
       "    </tr>\n",
       "    <tr>\n",
       "      <th>ATLASdilep</th>\n",
       "      <td>3.7</td>\n",
       "      <td>34.0</td>\n",
       "      <td>0.2</td>\n",
       "    </tr>\n",
       "    <tr>\n",
       "      <th>CMSljets</th>\n",
       "      <td>60.5</td>\n",
       "      <td>79.2</td>\n",
       "      <td>25.0</td>\n",
       "    </tr>\n",
       "    <tr>\n",
       "      <th>CMSdilep</th>\n",
       "      <td>-8.2</td>\n",
       "      <td>38.9</td>\n",
       "      <td>0.6</td>\n",
       "    </tr>\n",
       "    <tr>\n",
       "      <th>CMSalljets</th>\n",
       "      <td>21.4</td>\n",
       "      <td>45.0</td>\n",
       "      <td>4.3</td>\n",
       "    </tr>\n",
       "    <tr>\n",
       "      <th>Correlation</th>\n",
       "      <td>NaN</td>\n",
       "      <td>-134.4</td>\n",
       "      <td>NaN</td>\n",
       "    </tr>\n",
       "  </tbody>\n",
       "</table>\n",
       "</div>"
      ],
      "text/plain": [
       "             BLUE weights    IIW   MIW\n",
       "Exp                                   \n",
       "ATLASljets           22.7   37.4   8.2\n",
       "ATLASdilep            3.7   34.0   0.2\n",
       "CMSljets             60.5   79.2  25.0\n",
       "CMSdilep             -8.2   38.9   0.6\n",
       "CMSalljets           21.4   45.0   4.3\n",
       "Correlation           NaN -134.4   NaN"
      ]
     },
     "execution_count": 16,
     "metadata": {},
     "output_type": "execute_result"
    }
   ],
   "source": [
    "blue_weights = pd.Series(blue.weights, index=blue.data.index, name='BLUE weights')\n",
    "intrinsic_inf_weights = pd.Series(blue.intrinsic_information_weights, index=blue.data.index, name='IIW')\n",
    "intrinsic_inf_weights['Correlation'] = 1 - intrinsic_inf_weights.sum()\n",
    "marginal_inf_weights = pd.Series(blue.marginal_information_weights, index=blue.data.index, name='MIW')\n",
    "np.round(100 * pd.DataFrame([blue_weights, intrinsic_inf_weights, marginal_inf_weights]).T, 1)"
   ]
  },
  {
   "cell_type": "markdown",
   "metadata": {},
   "source": [
    "We see slighly different values to those quoted in the note. Perhaps this is due to rounding somwhere (e.g. in our inputs)?\n",
    "\n",
    "We can also look at the correlations between the input measurements:"
   ]
  },
  {
   "cell_type": "code",
   "execution_count": 17,
   "metadata": {},
   "outputs": [
    {
     "data": {
      "text/html": [
       "<div>\n",
       "<style scoped>\n",
       "    .dataframe tbody tr th:only-of-type {\n",
       "        vertical-align: middle;\n",
       "    }\n",
       "\n",
       "    .dataframe tbody tr th {\n",
       "        vertical-align: top;\n",
       "    }\n",
       "\n",
       "    .dataframe thead th {\n",
       "        text-align: right;\n",
       "    }\n",
       "</style>\n",
       "<table border=\"1\" class=\"dataframe\">\n",
       "  <thead>\n",
       "    <tr style=\"text-align: right;\">\n",
       "      <th>Exp</th>\n",
       "      <th>ATLASljets</th>\n",
       "      <th>ATLASdilep</th>\n",
       "      <th>CMSljets</th>\n",
       "      <th>CMSdilep</th>\n",
       "      <th>CMSalljets</th>\n",
       "    </tr>\n",
       "    <tr>\n",
       "      <th>Exp</th>\n",
       "      <th></th>\n",
       "      <th></th>\n",
       "      <th></th>\n",
       "      <th></th>\n",
       "      <th></th>\n",
       "    </tr>\n",
       "  </thead>\n",
       "  <tbody>\n",
       "    <tr>\n",
       "      <th>ATLASljets</th>\n",
       "      <td>1.00</td>\n",
       "      <td>0.63</td>\n",
       "      <td>0.26</td>\n",
       "      <td>0.18</td>\n",
       "      <td>0.16</td>\n",
       "    </tr>\n",
       "    <tr>\n",
       "      <th>ATLASdilep</th>\n",
       "      <td>0.63</td>\n",
       "      <td>1.00</td>\n",
       "      <td>0.36</td>\n",
       "      <td>0.25</td>\n",
       "      <td>0.24</td>\n",
       "    </tr>\n",
       "    <tr>\n",
       "      <th>CMSljets</th>\n",
       "      <td>0.26</td>\n",
       "      <td>0.36</td>\n",
       "      <td>1.00</td>\n",
       "      <td>0.64</td>\n",
       "      <td>0.56</td>\n",
       "    </tr>\n",
       "    <tr>\n",
       "      <th>CMSdilep</th>\n",
       "      <td>0.18</td>\n",
       "      <td>0.25</td>\n",
       "      <td>0.64</td>\n",
       "      <td>1.00</td>\n",
       "      <td>0.75</td>\n",
       "    </tr>\n",
       "    <tr>\n",
       "      <th>CMSalljets</th>\n",
       "      <td>0.16</td>\n",
       "      <td>0.24</td>\n",
       "      <td>0.56</td>\n",
       "      <td>0.75</td>\n",
       "      <td>1.00</td>\n",
       "    </tr>\n",
       "  </tbody>\n",
       "</table>\n",
       "</div>"
      ],
      "text/plain": [
       "Exp         ATLASljets  ATLASdilep  CMSljets  CMSdilep  CMSalljets\n",
       "Exp                                                               \n",
       "ATLASljets        1.00        0.63      0.26      0.18        0.16\n",
       "ATLASdilep        0.63        1.00      0.36      0.25        0.24\n",
       "CMSljets          0.26        0.36      1.00      0.64        0.56\n",
       "CMSdilep          0.18        0.25      0.64      1.00        0.75\n",
       "CMSalljets        0.16        0.24      0.56      0.75        1.00"
      ]
     },
     "execution_count": 17,
     "metadata": {},
     "output_type": "execute_result"
    }
   ],
   "source": [
    "pd.DataFrame(blue.total_correlations,\n",
    "             index=blue.data.index,\n",
    "             columns=blue.data.index).round(2)"
   ]
  },
  {
   "cell_type": "markdown",
   "metadata": {},
   "source": [
    "The next check performed in the note is a combination in which the top mass in the l+jets, dilepton and all-jets channels are treated as different observables. We can create a dictionary that maps our output observables to input measurements like so (note that the values of the dictionary should be lists even if there is only a single measurement):"
   ]
  },
  {
   "cell_type": "code",
   "execution_count": 18,
   "metadata": {
    "tags": []
   },
   "outputs": [],
   "source": [
    "channels = {\n",
    "    'ljets': ['ATLASljets', 'CMSljets'],\n",
    "    'dilep': ['ATLASdilep', 'CMSdilep'],\n",
    "    'allhad': ['CMSalljets'],\n",
    "}"
   ]
  },
  {
   "cell_type": "markdown",
   "metadata": {},
   "source": [
    "We can then create a new instance of the `Blue` class with the same dataframe and correlations as previously, but now with the observables keyword argument set to our channels dictionary"
   ]
  },
  {
   "cell_type": "code",
   "execution_count": 19,
   "metadata": {},
   "outputs": [
    {
     "data": {
      "text/plain": [
       "{'ljets': 173.1755348763919,\n",
       " 'dilep': 172.8465991359826,\n",
       " 'allhad': 173.6360539416519}"
      ]
     },
     "execution_count": 19,
     "metadata": {},
     "output_type": "execute_result"
    }
   ],
   "source": [
    "channel_blue = Blue(df, correlation, observables=channels)\n",
    "channel_blue.combined_result"
   ]
  },
  {
   "cell_type": "markdown",
   "metadata": {},
   "source": [
    "We get one result per channel which can be compared with Table 3 of the note.\n",
    "\n",
    "We can also look at how each of these observables are correlated with one another:"
   ]
  },
  {
   "cell_type": "code",
   "execution_count": 20,
   "metadata": {},
   "outputs": [
    {
     "data": {
      "text/plain": [
       "array([[1.  , 0.72, 0.56],\n",
       "       [0.72, 1.  , 0.7 ],\n",
       "       [0.56, 0.7 , 1.  ]])"
      ]
     },
     "execution_count": 20,
     "metadata": {},
     "output_type": "execute_result"
    }
   ],
   "source": [
    "channel_blue.observable_correlations.round(2)"
   ]
  },
  {
   "cell_type": "markdown",
   "metadata": {},
   "source": [
    "We can perfom a similar test by looking at the individual experiments:"
   ]
  },
  {
   "cell_type": "code",
   "execution_count": 21,
   "metadata": {},
   "outputs": [
    {
     "data": {
      "text/plain": [
       "{'ATLAS': 172.6957966595784, 'CMS': 173.50077159132803}"
      ]
     },
     "execution_count": 21,
     "metadata": {},
     "output_type": "execute_result"
    }
   ],
   "source": [
    "experiments = {\n",
    "    'ATLAS': ['ATLASljets', 'ATLASdilep'],\n",
    "    'CMS': ['CMSdilep', 'CMSljets', 'CMSalljets'],\n",
    "}\n",
    "experiment_blue = Blue(df, correlation, observables=experiments)\n",
    "experiment_blue.combined_result"
   ]
  },
  {
   "cell_type": "code",
   "execution_count": 22,
   "metadata": {},
   "outputs": [
    {
     "data": {
      "text/plain": [
       "array([[1.  , 0.33],\n",
       "       [0.33, 1.  ]])"
      ]
     },
     "execution_count": 22,
     "metadata": {},
     "output_type": "execute_result"
    }
   ],
   "source": [
    "experiment_blue.observable_correlations.round(2)"
   ]
  },
  {
   "cell_type": "markdown",
   "metadata": {},
   "source": [
    "A final combination that we can perform is using only measurements from one experiment at a time. This is different from the above combination when the results of each experiment are combined simultaneously and correlations between the two experiments are still present. \n",
    "\n",
    "Rather than having to redefine our correlation matrices, we can create new instances of the `Blue` class from our original instance like so:"
   ]
  },
  {
   "cell_type": "code",
   "execution_count": 23,
   "metadata": {},
   "outputs": [
    {
     "data": {
      "text/plain": [
       "172.6491670717874"
      ]
     },
     "execution_count": 23,
     "metadata": {},
     "output_type": "execute_result"
    }
   ],
   "source": [
    "blue[experiments['ATLAS']].combined_result"
   ]
  },
  {
   "cell_type": "code",
   "execution_count": 24,
   "metadata": {},
   "outputs": [
    {
     "data": {
      "text/plain": [
       "173.58341686340304"
      ]
     },
     "execution_count": 24,
     "metadata": {},
     "output_type": "execute_result"
    }
   ],
   "source": [
    "blue[experiments['CMS']].combined_result"
   ]
  },
  {
   "cell_type": "markdown",
   "metadata": {},
   "source": [
    "### Effects of using alternative correlation models and uncertainty treatments\n",
    "\n",
    "Now that we have perfomed a combination, we can test how the result changes if we change our assumptions on how our uncertainties are correlated. The first check performed in the note is to see how applying a multiplicative factor, $f$, to each correlation changes the result. This is done both at the same time and seperately for each of $\\rho_{\\mathrm{exp}}$ and $\\rho_{\\mathrm{lhc}}$.\n",
    "\n",
    "The first thing we do is create a `numpy` array of evenly spaced points between 0 and 1. These are our test values for $f$:"
   ]
  },
  {
   "cell_type": "code",
   "execution_count": 25,
   "metadata": {
    "tags": []
   },
   "outputs": [],
   "source": [
    "x = np.linspace(0, 1, 21)"
   ]
  },
  {
   "cell_type": "markdown",
   "metadata": {},
   "source": [
    "Next, we create many instance of the `Blue` class, varying the correlation assumptions:"
   ]
  },
  {
   "cell_type": "code",
   "execution_count": 26,
   "metadata": {
    "tags": []
   },
   "outputs": [],
   "source": [
    "vary_both = [Blue(df, make_correlation_matrices(input_correlation * f)) for f in x]\n",
    "vary_fexp = [Blue(df, make_correlation_matrices((input_correlation.T * [f, 1]).T)) for f in x]\n",
    "vary_flhc = [Blue(df, make_correlation_matrices((input_correlation.T * [1, f]).T)) for f in x]"
   ]
  },
  {
   "cell_type": "markdown",
   "metadata": {},
   "source": [
    "Now that we have all our different assumptions in place we can plot the combined result and compare it to our \"nominal\" assumptions:"
   ]
  },
  {
   "cell_type": "code",
   "execution_count": 27,
   "metadata": {},
   "outputs": [
    {
     "data": {
      "image/png": "[encoded data removed]",
      "text/plain": [
       "<Figure size 720x360 with 2 Axes>"
      ]
     },
     "metadata": {
      "needs_background": "light"
     },
     "output_type": "display_data"
    }
   ],
   "source": [
    "nominal_result = blue.combined_result\n",
    "nominal_uncert = np.sqrt(blue.combined_covariance).squeeze()\n",
    "\n",
    "fig, (ax0, ax1) = plt.subplots(1, 2, figsize=(10, 5))\n",
    "\n",
    "ax0.plot(x, [i.combined_result - nominal_result for i in vary_both], \n",
    "         label=r'$f \\rho_{\\mathrm{exp}}, f \\rho_{\\mathrm{lhc}}$')\n",
    "ax0.plot(x, [i.combined_result - nominal_result for i in vary_fexp],\n",
    "        label=r'$f \\rho_{\\mathrm{exp}}, \\rho_{\\mathrm{lhc}}$ fixed')\n",
    "ax0.plot(x, [i.combined_result - nominal_result for i in vary_flhc],\n",
    "        label=r'$\\rho_{\\mathrm{exp}} fixed, f \\rho_{\\mathrm{lhc}}$')\n",
    "\n",
    "ax1.plot(x, [np.sqrt(i.combined_covariance).squeeze() - nominal_uncert for i in vary_both], \n",
    "         label=r'$f \\rho_{\\mathrm{exp}}, f \\rho_{\\mathrm{lhc}}$')\n",
    "ax1.plot(x, [np.sqrt(i.combined_covariance).squeeze() - nominal_uncert for i in vary_fexp],\n",
    "        label=r'$f \\rho_{\\mathrm{exp}}, \\rho_{\\mathrm{lhc}}$ fixed')\n",
    "ax1.plot(x, [np.sqrt(i.combined_covariance).squeeze() - nominal_uncert for i in vary_flhc],\n",
    "        label=r'$\\rho_{\\mathrm{exp}}$ fixed, $f \\rho_{\\mathrm{lhc}}$')\n",
    "ax1.legend(loc='best')\n",
    "\n",
    "ax0.set(ylabel='$\\Delta m_t$ [GeV]', xlabel='f')\n",
    "ax1.set(ylabel=r'$\\Delta\\sigma(m_t)$ [GeV]', xlabel='f')\n",
    "plt.tight_layout();"
   ]
  },
  {
   "cell_type": "markdown",
   "metadata": {},
   "source": [
    "which we can compare to Figures 2(a) and 2(b). We see they are nicely consistent!"
   ]
  }
 ],
 "metadata": {
  "kernelspec": {
   "display_name": "Python 3",
   "language": "python",
   "name": "python3"
  },
  "language_info": {
   "codemirror_mode": {
    "name": "ipython",
    "version": 3
   },
   "file_extension": ".py",
   "mimetype": "text/x-python",
   "name": "python",
   "nbconvert_exporter": "python",
   "pygments_lexer": "ipython3",
   "version": "3.9.6"
  }
 },
 "nbformat": 4,
 "nbformat_minor": 4
}
