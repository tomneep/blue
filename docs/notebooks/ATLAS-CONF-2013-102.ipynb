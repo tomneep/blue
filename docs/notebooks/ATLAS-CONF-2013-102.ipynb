{
 "cells": [
  {
   "cell_type": "markdown",
   "metadata": {},
   "source": [
    "# [ATLAS-CONF-2013-102](https://cds.cern.ch/record/1601811/files/ATLAS-CONF-2013-102.pdf)"
   ]
  },
  {
   "cell_type": "markdown",
   "metadata": {},
   "source": [
    "## ATLAS & CMS top mass combination at $\\sqrt{s} = 7$ TeV"
   ]
  },
  {
   "cell_type": "code",
   "execution_count": 1,
   "metadata": {},
   "outputs": [],
   "source": [
    "%matplotlib inline"
   ]
  },
  {
   "cell_type": "code",
   "execution_count": 2,
   "metadata": {},
   "outputs": [],
   "source": [
    "from blue import Blue\n",
    "import matplotlib.pyplot as plt\n",
    "import numpy as np\n",
    "import pandas as pd"
   ]
  },
  {
   "cell_type": "code",
   "execution_count": 3,
   "metadata": {},
   "outputs": [
    {
     "data": {
      "text/html": [
       "<div>\n",
       "<style>\n",
       "    .dataframe thead tr:only-child th {\n",
       "        text-align: right;\n",
       "    }\n",
       "\n",
       "    .dataframe thead th {\n",
       "        text-align: left;\n",
       "    }\n",
       "\n",
       "    .dataframe tbody tr th {\n",
       "        vertical-align: top;\n",
       "    }\n",
       "</style>\n",
       "<table border=\"1\" class=\"dataframe\">\n",
       "  <thead>\n",
       "    <tr style=\"text-align: right;\">\n",
       "      <th>Exp</th>\n",
       "      <th>ATLASljets</th>\n",
       "      <th>ATLASdilep</th>\n",
       "      <th>CMSljets</th>\n",
       "      <th>CMSdilep</th>\n",
       "      <th>CMSalljets</th>\n",
       "      <th>rho_exp</th>\n",
       "      <th>rho_lhc</th>\n",
       "    </tr>\n",
       "  </thead>\n",
       "  <tbody>\n",
       "    <tr>\n",
       "      <th>Result</th>\n",
       "      <td>172.31</td>\n",
       "      <td>173.09</td>\n",
       "      <td>173.49</td>\n",
       "      <td>172.50</td>\n",
       "      <td>173.49</td>\n",
       "      <td>0.0</td>\n",
       "      <td>0.0</td>\n",
       "    </tr>\n",
       "    <tr>\n",
       "      <th>JSF</th>\n",
       "      <td>0.72</td>\n",
       "      <td>0.00</td>\n",
       "      <td>0.33</td>\n",
       "      <td>0.00</td>\n",
       "      <td>0.00</td>\n",
       "      <td>0.0</td>\n",
       "      <td>0.0</td>\n",
       "    </tr>\n",
       "    <tr>\n",
       "      <th>uJES</th>\n",
       "      <td>0.61</td>\n",
       "      <td>0.73</td>\n",
       "      <td>0.24</td>\n",
       "      <td>0.69</td>\n",
       "      <td>0.69</td>\n",
       "      <td>1.0</td>\n",
       "      <td>0.0</td>\n",
       "    </tr>\n",
       "    <tr>\n",
       "      <th>insituJES</th>\n",
       "      <td>0.29</td>\n",
       "      <td>0.31</td>\n",
       "      <td>0.02</td>\n",
       "      <td>0.35</td>\n",
       "      <td>0.35</td>\n",
       "      <td>1.0</td>\n",
       "      <td>0.0</td>\n",
       "    </tr>\n",
       "    <tr>\n",
       "      <th>intercalibJES</th>\n",
       "      <td>0.19</td>\n",
       "      <td>0.39</td>\n",
       "      <td>0.01</td>\n",
       "      <td>0.08</td>\n",
       "      <td>0.08</td>\n",
       "      <td>1.0</td>\n",
       "      <td>0.5</td>\n",
       "    </tr>\n",
       "    <tr>\n",
       "      <th>flavourJES</th>\n",
       "      <td>0.36</td>\n",
       "      <td>0.02</td>\n",
       "      <td>0.11</td>\n",
       "      <td>0.58</td>\n",
       "      <td>0.58</td>\n",
       "      <td>1.0</td>\n",
       "      <td>0.0</td>\n",
       "    </tr>\n",
       "    <tr>\n",
       "      <th>bJES</th>\n",
       "      <td>0.08</td>\n",
       "      <td>0.71</td>\n",
       "      <td>0.61</td>\n",
       "      <td>0.76</td>\n",
       "      <td>0.49</td>\n",
       "      <td>1.0</td>\n",
       "      <td>0.5</td>\n",
       "    </tr>\n",
       "    <tr>\n",
       "      <th>MC</th>\n",
       "      <td>0.33</td>\n",
       "      <td>0.48</td>\n",
       "      <td>0.02</td>\n",
       "      <td>0.04</td>\n",
       "      <td>0.19</td>\n",
       "      <td>1.0</td>\n",
       "      <td>1.0</td>\n",
       "    </tr>\n",
       "    <tr>\n",
       "      <th>Rad</th>\n",
       "      <td>0.45</td>\n",
       "      <td>0.37</td>\n",
       "      <td>0.30</td>\n",
       "      <td>0.58</td>\n",
       "      <td>0.33</td>\n",
       "      <td>1.0</td>\n",
       "      <td>1.0</td>\n",
       "    </tr>\n",
       "    <tr>\n",
       "      <th>CR</th>\n",
       "      <td>0.32</td>\n",
       "      <td>0.29</td>\n",
       "      <td>0.54</td>\n",
       "      <td>0.13</td>\n",
       "      <td>0.15</td>\n",
       "      <td>1.0</td>\n",
       "      <td>1.0</td>\n",
       "    </tr>\n",
       "    <tr>\n",
       "      <th>UE</th>\n",
       "      <td>0.12</td>\n",
       "      <td>0.42</td>\n",
       "      <td>0.15</td>\n",
       "      <td>0.05</td>\n",
       "      <td>0.20</td>\n",
       "      <td>1.0</td>\n",
       "      <td>1.0</td>\n",
       "    </tr>\n",
       "    <tr>\n",
       "      <th>PDF</th>\n",
       "      <td>0.17</td>\n",
       "      <td>0.12</td>\n",
       "      <td>0.07</td>\n",
       "      <td>0.09</td>\n",
       "      <td>0.06</td>\n",
       "      <td>1.0</td>\n",
       "      <td>1.0</td>\n",
       "    </tr>\n",
       "    <tr>\n",
       "      <th>Jet</th>\n",
       "      <td>0.23</td>\n",
       "      <td>0.22</td>\n",
       "      <td>0.24</td>\n",
       "      <td>0.18</td>\n",
       "      <td>0.28</td>\n",
       "      <td>1.0</td>\n",
       "      <td>0.0</td>\n",
       "    </tr>\n",
       "    <tr>\n",
       "      <th>btagging</th>\n",
       "      <td>0.81</td>\n",
       "      <td>0.46</td>\n",
       "      <td>0.12</td>\n",
       "      <td>0.09</td>\n",
       "      <td>0.06</td>\n",
       "      <td>1.0</td>\n",
       "      <td>0.5</td>\n",
       "    </tr>\n",
       "    <tr>\n",
       "      <th>Lepton</th>\n",
       "      <td>0.04</td>\n",
       "      <td>0.12</td>\n",
       "      <td>0.02</td>\n",
       "      <td>0.14</td>\n",
       "      <td>0.00</td>\n",
       "      <td>1.0</td>\n",
       "      <td>0.0</td>\n",
       "    </tr>\n",
       "    <tr>\n",
       "      <th>MCBkg</th>\n",
       "      <td>0.00</td>\n",
       "      <td>0.14</td>\n",
       "      <td>0.13</td>\n",
       "      <td>0.05</td>\n",
       "      <td>0.00</td>\n",
       "      <td>1.0</td>\n",
       "      <td>1.0</td>\n",
       "    </tr>\n",
       "    <tr>\n",
       "      <th>DataBkg</th>\n",
       "      <td>0.10</td>\n",
       "      <td>0.00</td>\n",
       "      <td>0.00</td>\n",
       "      <td>0.00</td>\n",
       "      <td>0.13</td>\n",
       "      <td>0.0</td>\n",
       "      <td>0.0</td>\n",
       "    </tr>\n",
       "    <tr>\n",
       "      <th>Method</th>\n",
       "      <td>0.13</td>\n",
       "      <td>0.07</td>\n",
       "      <td>0.06</td>\n",
       "      <td>0.40</td>\n",
       "      <td>0.13</td>\n",
       "      <td>0.0</td>\n",
       "      <td>0.0</td>\n",
       "    </tr>\n",
       "    <tr>\n",
       "      <th>MPI</th>\n",
       "      <td>0.03</td>\n",
       "      <td>0.01</td>\n",
       "      <td>0.07</td>\n",
       "      <td>0.11</td>\n",
       "      <td>0.06</td>\n",
       "      <td>1.0</td>\n",
       "      <td>1.0</td>\n",
       "    </tr>\n",
       "    <tr>\n",
       "      <th>Stats</th>\n",
       "      <td>0.23</td>\n",
       "      <td>0.64</td>\n",
       "      <td>0.27</td>\n",
       "      <td>0.43</td>\n",
       "      <td>0.69</td>\n",
       "      <td>0.0</td>\n",
       "      <td>0.0</td>\n",
       "    </tr>\n",
       "  </tbody>\n",
       "</table>\n",
       "</div>"
      ],
      "text/plain": [
       "Exp            ATLASljets  ATLASdilep  CMSljets  CMSdilep  CMSalljets  \\\n",
       "Result             172.31      173.09    173.49    172.50      173.49   \n",
       "JSF                  0.72        0.00      0.33      0.00        0.00   \n",
       "uJES                 0.61        0.73      0.24      0.69        0.69   \n",
       "insituJES            0.29        0.31      0.02      0.35        0.35   \n",
       "intercalibJES        0.19        0.39      0.01      0.08        0.08   \n",
       "flavourJES           0.36        0.02      0.11      0.58        0.58   \n",
       "bJES                 0.08        0.71      0.61      0.76        0.49   \n",
       "MC                   0.33        0.48      0.02      0.04        0.19   \n",
       "Rad                  0.45        0.37      0.30      0.58        0.33   \n",
       "CR                   0.32        0.29      0.54      0.13        0.15   \n",
       "UE                   0.12        0.42      0.15      0.05        0.20   \n",
       "PDF                  0.17        0.12      0.07      0.09        0.06   \n",
       "Jet                  0.23        0.22      0.24      0.18        0.28   \n",
       "btagging             0.81        0.46      0.12      0.09        0.06   \n",
       "Lepton               0.04        0.12      0.02      0.14        0.00   \n",
       "MCBkg                0.00        0.14      0.13      0.05        0.00   \n",
       "DataBkg              0.10        0.00      0.00      0.00        0.13   \n",
       "Method               0.13        0.07      0.06      0.40        0.13   \n",
       "MPI                  0.03        0.01      0.07      0.11        0.06   \n",
       "Stats                0.23        0.64      0.27      0.43        0.69   \n",
       "\n",
       "Exp            rho_exp  rho_lhc  \n",
       "Result             0.0      0.0  \n",
       "JSF                0.0      0.0  \n",
       "uJES               1.0      0.0  \n",
       "insituJES          1.0      0.0  \n",
       "intercalibJES      1.0      0.5  \n",
       "flavourJES         1.0      0.0  \n",
       "bJES               1.0      0.5  \n",
       "MC                 1.0      1.0  \n",
       "Rad                1.0      1.0  \n",
       "CR                 1.0      1.0  \n",
       "UE                 1.0      1.0  \n",
       "PDF                1.0      1.0  \n",
       "Jet                1.0      0.0  \n",
       "btagging           1.0      0.5  \n",
       "Lepton             1.0      0.0  \n",
       "MCBkg              1.0      1.0  \n",
       "DataBkg            0.0      0.0  \n",
       "Method             0.0      0.0  \n",
       "MPI                1.0      1.0  \n",
       "Stats              0.0      0.0  "
      ]
     },
     "execution_count": 3,
     "metadata": {},
     "output_type": "execute_result"
    }
   ],
   "source": [
    "df = pd.read_csv('data/lhc_top_mass_7tev.txt', index_col='Exp')\n",
    "df.T"
   ]
  },
  {
   "cell_type": "code",
   "execution_count": 4,
   "metadata": {},
   "outputs": [],
   "source": [
    "correlation = df.loc[['rho_exp', 'rho_lhc']].drop('Result', axis=1)\n",
    "df = df.drop(['rho_exp', 'rho_lhc'])"
   ]
  },
  {
   "cell_type": "code",
   "execution_count": 5,
   "metadata": {},
   "outputs": [],
   "source": [
    "def make_correlation_matrix(data):\n",
    "    out = {}\n",
    "    for i in data.columns:\n",
    "        rho_exp = data.loc['rho_exp'][i]\n",
    "        rho_lhc = data.loc['rho_lhc'][i]\n",
    "        n_atlas, n_cms = 2, 3\n",
    "        rho_atlas = np.full((n_atlas, n_atlas), rho_exp)\n",
    "        rho_cms = np.full((n_cms, n_cms), rho_exp)\n",
    "        rho_inter = np.full((n_atlas, n_cms), rho_lhc)\n",
    "        corr_mat = np.block([\n",
    "            [rho_atlas, rho_inter],\n",
    "            [rho_inter.T, rho_cms]\n",
    "        ])\n",
    "        np.fill_diagonal(corr_mat, 1)\n",
    "        out[i] = corr_mat\n",
    "    return out"
   ]
  },
  {
   "cell_type": "code",
   "execution_count": 6,
   "metadata": {},
   "outputs": [],
   "source": [
    "correlation = make_correlation_matrix(correlation)"
   ]
  },
  {
   "cell_type": "code",
   "execution_count": 7,
   "metadata": {},
   "outputs": [],
   "source": [
    "blue = Blue(df, correlation)"
   ]
  },
  {
   "cell_type": "code",
   "execution_count": 8,
   "metadata": {},
   "outputs": [
    {
     "data": {
      "text/plain": [
       "173.28879459299233"
      ]
     },
     "execution_count": 8,
     "metadata": {},
     "output_type": "execute_result"
    }
   ],
   "source": [
    "blue.combined_result"
   ]
  },
  {
   "cell_type": "code",
   "execution_count": 9,
   "metadata": {},
   "outputs": [],
   "source": [
    "uncertainties = pd.Series(blue.combined_uncertainties)"
   ]
  },
  {
   "cell_type": "code",
   "execution_count": 10,
   "metadata": {},
   "outputs": [
    {
     "data": {
      "text/plain": [
       "0.91797502648660634"
      ]
     },
     "execution_count": 10,
     "metadata": {},
     "output_type": "execute_result"
    }
   ],
   "source": [
    "total_syst = np.sqrt((uncertainties.drop('Stats') ** 2).sum())\n",
    "total_syst"
   ]
  },
  {
   "cell_type": "code",
   "execution_count": 11,
   "metadata": {},
   "outputs": [
    {
     "name": "stdout",
     "output_type": "stream",
     "text": [
      "m_top = 173.29 +/- 0.23 (stat) +/- 0.92 (syst)\n"
     ]
    }
   ],
   "source": [
    "print(f'm_top = {blue.combined_result:.2f}'\n",
    "      f' +/- {uncertainties[\"Stats\"]:.2f} (stat)' \n",
    "      f' +/- {total_syst:.2f} (syst)')"
   ]
  },
  {
   "cell_type": "code",
   "execution_count": 12,
   "metadata": {},
   "outputs": [
    {
     "data": {
      "text/plain": [
       "(1.7994655945280238, 4)"
      ]
     },
     "execution_count": 12,
     "metadata": {},
     "output_type": "execute_result"
    }
   ],
   "source": [
    "blue.chi2_ndf"
   ]
  },
  {
   "cell_type": "code",
   "execution_count": 13,
   "metadata": {},
   "outputs": [
    {
     "data": {
      "text/plain": [
       "0.77258012492722461"
      ]
     },
     "execution_count": 13,
     "metadata": {},
     "output_type": "execute_result"
    }
   ],
   "source": [
    "from scipy.stats import chi2\n",
    "chi2.sf(*blue.chi2_ndf)"
   ]
  },
  {
   "cell_type": "code",
   "execution_count": 14,
   "metadata": {},
   "outputs": [
    {
     "data": {
      "image/png": "[encoded data removed]",
      "text/plain": [
       "<matplotlib.figure.Figure at 0x11a4bb080>"
      ]
     },
     "metadata": {},
     "output_type": "display_data"
    }
   ],
   "source": [
    "pd.Series(blue.weights * 100, index=blue.data.index).sort_values().plot.barh()\n",
    "plt.vlines([0], -1, 5, linestyle='--')\n",
    "ax = plt.gca()\n",
    "ax.set(xlim=(-25, 100), xlabel='BLUE combination coefficient [%]');"
   ]
  },
  {
   "cell_type": "code",
   "execution_count": 15,
   "metadata": {},
   "outputs": [
    {
     "data": {
      "text/plain": [
       "[(-1, 1), <matplotlib.text.Text at 0x11a643c18>]"
      ]
     },
     "execution_count": 15,
     "metadata": {},
     "output_type": "execute_result"
    },
    {
     "data": {
      "image/png": "[encoded data removed]",
      "text/plain": [
       "<matplotlib.figure.Figure at 0x11a398a90>"
      ]
     },
     "metadata": {},
     "output_type": "display_data"
    }
   ],
   "source": [
    "blue.pulls.sort_values().plot.barh()\n",
    "plt.vlines([0], -1, 5, linestyle='--')\n",
    "ax = plt.gca()\n",
    "ax.set(xlim=(-1, 1), xlabel='Pull')"
   ]
  },
  {
   "cell_type": "code",
   "execution_count": 16,
   "metadata": {},
   "outputs": [
    {
     "data": {
      "text/html": [
       "<div>\n",
       "<style>\n",
       "    .dataframe thead tr:only-child th {\n",
       "        text-align: right;\n",
       "    }\n",
       "\n",
       "    .dataframe thead th {\n",
       "        text-align: left;\n",
       "    }\n",
       "\n",
       "    .dataframe tbody tr th {\n",
       "        vertical-align: top;\n",
       "    }\n",
       "</style>\n",
       "<table border=\"1\" class=\"dataframe\">\n",
       "  <thead>\n",
       "    <tr style=\"text-align: right;\">\n",
       "      <th></th>\n",
       "      <th>BLUE weights</th>\n",
       "      <th>IIW</th>\n",
       "      <th>MIW</th>\n",
       "    </tr>\n",
       "  </thead>\n",
       "  <tbody>\n",
       "    <tr>\n",
       "      <th>ATLASdilep</th>\n",
       "      <td>3.7</td>\n",
       "      <td>34.0</td>\n",
       "      <td>0.2</td>\n",
       "    </tr>\n",
       "    <tr>\n",
       "      <th>ATLASljets</th>\n",
       "      <td>22.7</td>\n",
       "      <td>37.4</td>\n",
       "      <td>8.2</td>\n",
       "    </tr>\n",
       "    <tr>\n",
       "      <th>CMSalljets</th>\n",
       "      <td>21.4</td>\n",
       "      <td>45.0</td>\n",
       "      <td>4.3</td>\n",
       "    </tr>\n",
       "    <tr>\n",
       "      <th>CMSdilep</th>\n",
       "      <td>-8.2</td>\n",
       "      <td>38.9</td>\n",
       "      <td>0.6</td>\n",
       "    </tr>\n",
       "    <tr>\n",
       "      <th>CMSljets</th>\n",
       "      <td>60.5</td>\n",
       "      <td>79.2</td>\n",
       "      <td>25.0</td>\n",
       "    </tr>\n",
       "    <tr>\n",
       "      <th>Correlation</th>\n",
       "      <td>NaN</td>\n",
       "      <td>-134.4</td>\n",
       "      <td>NaN</td>\n",
       "    </tr>\n",
       "  </tbody>\n",
       "</table>\n",
       "</div>"
      ],
      "text/plain": [
       "             BLUE weights    IIW   MIW\n",
       "ATLASdilep            3.7   34.0   0.2\n",
       "ATLASljets           22.7   37.4   8.2\n",
       "CMSalljets           21.4   45.0   4.3\n",
       "CMSdilep             -8.2   38.9   0.6\n",
       "CMSljets             60.5   79.2  25.0\n",
       "Correlation           NaN -134.4   NaN"
      ]
     },
     "execution_count": 16,
     "metadata": {},
     "output_type": "execute_result"
    }
   ],
   "source": [
    "blue_weights = pd.Series(blue.weights, index=blue.data.index, name='BLUE weights')\n",
    "intrinsic_inf_weights = pd.Series(blue.intrinsic_information_weights, index=blue.data.index, name='IIW')\n",
    "intrinsic_inf_weights['Correlation'] = 1 - intrinsic_inf_weights.sum()\n",
    "marginal_inf_weights = pd.Series(blue.marginal_information_weights, index=blue.data.index, name='MIW')\n",
    "np.round(100 * pd.DataFrame([blue_weights, intrinsic_inf_weights, marginal_inf_weights]).T, 1)"
   ]
  },
  {
   "cell_type": "code",
   "execution_count": 17,
   "metadata": {},
   "outputs": [
    {
     "data": {
      "text/html": [
       "<div>\n",
       "<style>\n",
       "    .dataframe thead tr:only-child th {\n",
       "        text-align: right;\n",
       "    }\n",
       "\n",
       "    .dataframe thead th {\n",
       "        text-align: left;\n",
       "    }\n",
       "\n",
       "    .dataframe tbody tr th {\n",
       "        vertical-align: top;\n",
       "    }\n",
       "</style>\n",
       "<table border=\"1\" class=\"dataframe\">\n",
       "  <thead>\n",
       "    <tr style=\"text-align: right;\">\n",
       "      <th>Exp</th>\n",
       "      <th>ATLASljets</th>\n",
       "      <th>ATLASdilep</th>\n",
       "      <th>CMSljets</th>\n",
       "      <th>CMSdilep</th>\n",
       "      <th>CMSalljets</th>\n",
       "    </tr>\n",
       "    <tr>\n",
       "      <th>Exp</th>\n",
       "      <th></th>\n",
       "      <th></th>\n",
       "      <th></th>\n",
       "      <th></th>\n",
       "      <th></th>\n",
       "    </tr>\n",
       "  </thead>\n",
       "  <tbody>\n",
       "    <tr>\n",
       "      <th>ATLASljets</th>\n",
       "      <td>1.00</td>\n",
       "      <td>0.63</td>\n",
       "      <td>0.26</td>\n",
       "      <td>0.18</td>\n",
       "      <td>0.16</td>\n",
       "    </tr>\n",
       "    <tr>\n",
       "      <th>ATLASdilep</th>\n",
       "      <td>0.63</td>\n",
       "      <td>1.00</td>\n",
       "      <td>0.36</td>\n",
       "      <td>0.25</td>\n",
       "      <td>0.24</td>\n",
       "    </tr>\n",
       "    <tr>\n",
       "      <th>CMSljets</th>\n",
       "      <td>0.26</td>\n",
       "      <td>0.36</td>\n",
       "      <td>1.00</td>\n",
       "      <td>0.64</td>\n",
       "      <td>0.56</td>\n",
       "    </tr>\n",
       "    <tr>\n",
       "      <th>CMSdilep</th>\n",
       "      <td>0.18</td>\n",
       "      <td>0.25</td>\n",
       "      <td>0.64</td>\n",
       "      <td>1.00</td>\n",
       "      <td>0.75</td>\n",
       "    </tr>\n",
       "    <tr>\n",
       "      <th>CMSalljets</th>\n",
       "      <td>0.16</td>\n",
       "      <td>0.24</td>\n",
       "      <td>0.56</td>\n",
       "      <td>0.75</td>\n",
       "      <td>1.00</td>\n",
       "    </tr>\n",
       "  </tbody>\n",
       "</table>\n",
       "</div>"
      ],
      "text/plain": [
       "Exp         ATLASljets  ATLASdilep  CMSljets  CMSdilep  CMSalljets\n",
       "Exp                                                               \n",
       "ATLASljets        1.00        0.63      0.26      0.18        0.16\n",
       "ATLASdilep        0.63        1.00      0.36      0.25        0.24\n",
       "CMSljets          0.26        0.36      1.00      0.64        0.56\n",
       "CMSdilep          0.18        0.25      0.64      1.00        0.75\n",
       "CMSalljets        0.16        0.24      0.56      0.75        1.00"
      ]
     },
     "execution_count": 17,
     "metadata": {},
     "output_type": "execute_result"
    }
   ],
   "source": [
    "_ = pd.DataFrame(blue.total_correlations,\n",
    "                 index=blue.data.index,\n",
    "                 columns=blue.data.index)\n",
    "np.round(_, 2)"
   ]
  },
  {
   "cell_type": "code",
   "execution_count": 18,
   "metadata": {},
   "outputs": [
    {
     "data": {
      "text/plain": [
       "{'allhad': 173.63605394165177,\n",
       " 'dilep': 172.84659913598253,\n",
       " 'ljets': 173.17553487639194}"
      ]
     },
     "execution_count": 18,
     "metadata": {},
     "output_type": "execute_result"
    }
   ],
   "source": [
    "channels = {\n",
    "    'ljets': ['ATLASljets', 'CMSljets'],\n",
    "    'dilep': ['ATLASdilep', 'CMSdilep'],\n",
    "    'allhad': ['CMSalljets'],\n",
    "}\n",
    "channel_blue = Blue(df, correlation, observables=channels)\n",
    "channel_blue.combined_result"
   ]
  },
  {
   "cell_type": "code",
   "execution_count": 19,
   "metadata": {},
   "outputs": [
    {
     "data": {
      "text/plain": [
       "array([[ 1.  ,  0.72,  0.56],\n",
       "       [ 0.72,  1.  ,  0.7 ],\n",
       "       [ 0.56,  0.7 ,  1.  ]])"
      ]
     },
     "execution_count": 19,
     "metadata": {},
     "output_type": "execute_result"
    }
   ],
   "source": [
    "np.round(channel_blue.observable_correlations, 2)"
   ]
  },
  {
   "cell_type": "code",
   "execution_count": 20,
   "metadata": {},
   "outputs": [
    {
     "data": {
      "text/plain": [
       "{'ATLAS': 172.69579665957849, 'CMS': 173.50077159132803}"
      ]
     },
     "execution_count": 20,
     "metadata": {},
     "output_type": "execute_result"
    }
   ],
   "source": [
    "experiments = {\n",
    "    'ATLAS': ['ATLASljets', 'ATLASdilep'],\n",
    "    'CMS': ['CMSdilep', 'CMSljets', 'CMSalljets'],\n",
    "}\n",
    "experiment_blue = Blue(df, correlation, observables=experiments)\n",
    "experiment_blue.combined_result"
   ]
  },
  {
   "cell_type": "code",
   "execution_count": 21,
   "metadata": {},
   "outputs": [
    {
     "data": {
      "text/plain": [
       "array([[ 1.  ,  0.33],\n",
       "       [ 0.33,  1.  ]])"
      ]
     },
     "execution_count": 21,
     "metadata": {},
     "output_type": "execute_result"
    }
   ],
   "source": [
    "np.round(experiment_blue.observable_correlations, 2)"
   ]
  },
  {
   "cell_type": "code",
   "execution_count": 22,
   "metadata": {},
   "outputs": [
    {
     "data": {
      "text/plain": [
       "172.64916707178739"
      ]
     },
     "execution_count": 22,
     "metadata": {},
     "output_type": "execute_result"
    }
   ],
   "source": [
    "blue[experiments['ATLAS']].combined_result"
   ]
  },
  {
   "cell_type": "code",
   "execution_count": 23,
   "metadata": {},
   "outputs": [
    {
     "data": {
      "text/plain": [
       "173.58341686340304"
      ]
     },
     "execution_count": 23,
     "metadata": {},
     "output_type": "execute_result"
    }
   ],
   "source": [
    "blue[experiments['CMS']].combined_result"
   ]
  }
 ],
 "metadata": {
  "kernelspec": {
   "display_name": "Python 3",
   "language": "python",
   "name": "python3"
  },
  "language_info": {
   "codemirror_mode": {
    "name": "ipython",
    "version": 3
   },
   "file_extension": ".py",
   "mimetype": "text/x-python",
   "name": "python",
   "nbconvert_exporter": "python",
   "pygments_lexer": "ipython3",
   "version": "3.6.0"
  }
 },
 "nbformat": 4,
 "nbformat_minor": 2
}
