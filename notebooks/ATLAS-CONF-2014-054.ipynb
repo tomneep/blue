{
 "cells": [
  {
   "cell_type": "code",
   "execution_count": 1,
   "metadata": {},
   "outputs": [],
   "source": [
    "%matplotlib inline"
   ]
  },
  {
   "cell_type": "code",
   "execution_count": 2,
   "metadata": {},
   "outputs": [],
   "source": [
    "from blue import Blue\n",
    "import matplotlib.pyplot as plt\n",
    "import numpy as np\n",
    "import pandas as pd"
   ]
  },
  {
   "cell_type": "code",
   "execution_count": 3,
   "metadata": {},
   "outputs": [],
   "source": [
    "df = pd.read_csv('./data/lhc_ttbar_xsec.csv')\n",
    "correlations = df.loc['Correlations'].drop('Experiment')\n",
    "df = df.drop('Correlations')"
   ]
  },
  {
   "cell_type": "code",
   "execution_count": 4,
   "metadata": {},
   "outputs": [
    {
     "data": {
      "text/html": [
       "<div>\n",
       "<style>\n",
       "    .dataframe thead tr:only-child th {\n",
       "        text-align: right;\n",
       "    }\n",
       "\n",
       "    .dataframe thead th {\n",
       "        text-align: left;\n",
       "    }\n",
       "\n",
       "    .dataframe tbody tr th {\n",
       "        vertical-align: top;\n",
       "    }\n",
       "</style>\n",
       "<table border=\"1\" class=\"dataframe\">\n",
       "  <thead>\n",
       "    <tr style=\"text-align: right;\">\n",
       "      <th></th>\n",
       "      <th>Experiment</th>\n",
       "      <th>Stat</th>\n",
       "      <th>Trig</th>\n",
       "      <th>LepS</th>\n",
       "      <th>LepI</th>\n",
       "      <th>JetR</th>\n",
       "      <th>JetI</th>\n",
       "      <th>btag</th>\n",
       "      <th>Pile</th>\n",
       "      <th>JESu</th>\n",
       "      <th>...</th>\n",
       "      <th>Scale</th>\n",
       "      <th>Rad</th>\n",
       "      <th>MC+PS</th>\n",
       "      <th>PDF</th>\n",
       "      <th>Z+j</th>\n",
       "      <th>LepM</th>\n",
       "      <th>DiBos</th>\n",
       "      <th>STop</th>\n",
       "      <th>Vdm</th>\n",
       "      <th>Lumi</th>\n",
       "    </tr>\n",
       "  </thead>\n",
       "  <tbody>\n",
       "    <tr>\n",
       "      <th>ATLAS</th>\n",
       "      <td>242.4</td>\n",
       "      <td>1.7</td>\n",
       "      <td>0.4</td>\n",
       "      <td>1.2</td>\n",
       "      <td>1.7</td>\n",
       "      <td>1.2</td>\n",
       "      <td>0.1</td>\n",
       "      <td>1.0</td>\n",
       "      <td>0.0</td>\n",
       "      <td>0.6</td>\n",
       "      <td>...</td>\n",
       "      <td>0.7</td>\n",
       "      <td>0.0</td>\n",
       "      <td>3.0</td>\n",
       "      <td>2.7</td>\n",
       "      <td>0.1</td>\n",
       "      <td>0.8</td>\n",
       "      <td>0.3</td>\n",
       "      <td>2.0</td>\n",
       "      <td>2.9</td>\n",
       "      <td>6.9</td>\n",
       "    </tr>\n",
       "    <tr>\n",
       "      <th>CMS</th>\n",
       "      <td>239.0</td>\n",
       "      <td>2.6</td>\n",
       "      <td>3.6</td>\n",
       "      <td>0.2</td>\n",
       "      <td>4.0</td>\n",
       "      <td>3.0</td>\n",
       "      <td>0.0</td>\n",
       "      <td>1.7</td>\n",
       "      <td>2.0</td>\n",
       "      <td>4.3</td>\n",
       "      <td>...</td>\n",
       "      <td>5.6</td>\n",
       "      <td>3.8</td>\n",
       "      <td>3.3</td>\n",
       "      <td>0.5</td>\n",
       "      <td>1.5</td>\n",
       "      <td>1.9</td>\n",
       "      <td>0.5</td>\n",
       "      <td>2.3</td>\n",
       "      <td>5.0</td>\n",
       "      <td>3.6</td>\n",
       "    </tr>\n",
       "  </tbody>\n",
       "</table>\n",
       "<p>2 rows × 24 columns</p>\n",
       "</div>"
      ],
      "text/plain": [
       "       Experiment  Stat  Trig  LepS  LepI  JetR  JetI  btag  Pile  JESu  ...   \\\n",
       "ATLAS       242.4   1.7   0.4   1.2   1.7   1.2   0.1   1.0   0.0   0.6  ...    \n",
       "CMS         239.0   2.6   3.6   0.2   4.0   3.0   0.0   1.7   2.0   4.3  ...    \n",
       "\n",
       "       Scale  Rad  MC+PS  PDF  Z+j  LepM  DiBos  STop  Vdm  Lumi  \n",
       "ATLAS    0.7  0.0    3.0  2.7  0.1   0.8    0.3   2.0  2.9   6.9  \n",
       "CMS      5.6  3.8    3.3  0.5  1.5   1.9    0.5   2.3  5.0   3.6  \n",
       "\n",
       "[2 rows x 24 columns]"
      ]
     },
     "execution_count": 4,
     "metadata": {},
     "output_type": "execute_result"
    }
   ],
   "source": [
    "df"
   ]
  },
  {
   "cell_type": "code",
   "execution_count": 5,
   "metadata": {},
   "outputs": [
    {
     "data": {
      "text/plain": [
       "Stat     0.0\n",
       "Trig     0.0\n",
       "LepS     0.0\n",
       "LepI     0.0\n",
       "JetR     0.0\n",
       "JetI     0.0\n",
       "btag     0.0\n",
       "Pile     0.0\n",
       "JESu     0.0\n",
       "JESi     0.0\n",
       "JESc     0.5\n",
       "JESf     1.0\n",
       "JESb     0.0\n",
       "Scale    0.5\n",
       "Rad      0.0\n",
       "MC+PS    0.5\n",
       "PDF      1.0\n",
       "Z+j      0.0\n",
       "LepM     0.0\n",
       "DiBos    1.0\n",
       "STop     1.0\n",
       "Vdm      1.0\n",
       "Lumi     0.0\n",
       "Name: Correlations, dtype: float64"
      ]
     },
     "execution_count": 5,
     "metadata": {},
     "output_type": "execute_result"
    }
   ],
   "source": [
    "correlations"
   ]
  },
  {
   "cell_type": "code",
   "execution_count": 6,
   "metadata": {},
   "outputs": [],
   "source": [
    "comb = Blue(df, correlations)"
   ]
  },
  {
   "cell_type": "code",
   "execution_count": 7,
   "metadata": {},
   "outputs": [],
   "source": [
    "res = pd.Series(\n",
    "    {comb.results_column: comb.combined_result, \n",
    "     **comb.combined_uncertainties}, name='Combination',\n",
    ")"
   ]
  },
  {
   "cell_type": "code",
   "execution_count": 8,
   "metadata": {},
   "outputs": [
    {
     "data": {
      "text/html": [
       "<div>\n",
       "<style>\n",
       "    .dataframe thead tr:only-child th {\n",
       "        text-align: right;\n",
       "    }\n",
       "\n",
       "    .dataframe thead th {\n",
       "        text-align: left;\n",
       "    }\n",
       "\n",
       "    .dataframe tbody tr th {\n",
       "        vertical-align: top;\n",
       "    }\n",
       "</style>\n",
       "<table border=\"1\" class=\"dataframe\">\n",
       "  <thead>\n",
       "    <tr style=\"text-align: right;\">\n",
       "      <th></th>\n",
       "      <th>ATLAS</th>\n",
       "      <th>CMS</th>\n",
       "      <th>Combination</th>\n",
       "    </tr>\n",
       "  </thead>\n",
       "  <tbody>\n",
       "    <tr>\n",
       "      <th>Experiment</th>\n",
       "      <td>242.4</td>\n",
       "      <td>239.0</td>\n",
       "      <td>241.5</td>\n",
       "    </tr>\n",
       "    <tr>\n",
       "      <th>Stat</th>\n",
       "      <td>1.7</td>\n",
       "      <td>2.6</td>\n",
       "      <td>1.4</td>\n",
       "    </tr>\n",
       "    <tr>\n",
       "      <th>Trig</th>\n",
       "      <td>0.4</td>\n",
       "      <td>3.6</td>\n",
       "      <td>1.0</td>\n",
       "    </tr>\n",
       "    <tr>\n",
       "      <th>LepS</th>\n",
       "      <td>1.2</td>\n",
       "      <td>0.2</td>\n",
       "      <td>0.9</td>\n",
       "    </tr>\n",
       "    <tr>\n",
       "      <th>LepI</th>\n",
       "      <td>1.7</td>\n",
       "      <td>4.0</td>\n",
       "      <td>1.7</td>\n",
       "    </tr>\n",
       "    <tr>\n",
       "      <th>JetR</th>\n",
       "      <td>1.2</td>\n",
       "      <td>3.0</td>\n",
       "      <td>1.2</td>\n",
       "    </tr>\n",
       "    <tr>\n",
       "      <th>JetI</th>\n",
       "      <td>0.1</td>\n",
       "      <td>0.0</td>\n",
       "      <td>0.1</td>\n",
       "    </tr>\n",
       "    <tr>\n",
       "      <th>btag</th>\n",
       "      <td>1.0</td>\n",
       "      <td>1.7</td>\n",
       "      <td>0.9</td>\n",
       "    </tr>\n",
       "    <tr>\n",
       "      <th>Pile</th>\n",
       "      <td>0.0</td>\n",
       "      <td>2.0</td>\n",
       "      <td>0.6</td>\n",
       "    </tr>\n",
       "    <tr>\n",
       "      <th>JESu</th>\n",
       "      <td>0.6</td>\n",
       "      <td>4.3</td>\n",
       "      <td>1.3</td>\n",
       "    </tr>\n",
       "    <tr>\n",
       "      <th>JESi</th>\n",
       "      <td>0.6</td>\n",
       "      <td>0.6</td>\n",
       "      <td>0.5</td>\n",
       "    </tr>\n",
       "    <tr>\n",
       "      <th>JESc</th>\n",
       "      <td>0.3</td>\n",
       "      <td>0.1</td>\n",
       "      <td>0.2</td>\n",
       "    </tr>\n",
       "    <tr>\n",
       "      <th>JESf</th>\n",
       "      <td>0.9</td>\n",
       "      <td>2.9</td>\n",
       "      <td>1.5</td>\n",
       "    </tr>\n",
       "    <tr>\n",
       "      <th>JESb</th>\n",
       "      <td>0.1</td>\n",
       "      <td>0.0</td>\n",
       "      <td>0.1</td>\n",
       "    </tr>\n",
       "    <tr>\n",
       "      <th>Scale</th>\n",
       "      <td>0.7</td>\n",
       "      <td>5.6</td>\n",
       "      <td>1.8</td>\n",
       "    </tr>\n",
       "    <tr>\n",
       "      <th>Rad</th>\n",
       "      <td>0.0</td>\n",
       "      <td>3.8</td>\n",
       "      <td>1.0</td>\n",
       "    </tr>\n",
       "    <tr>\n",
       "      <th>MC+PS</th>\n",
       "      <td>3.0</td>\n",
       "      <td>3.3</td>\n",
       "      <td>2.7</td>\n",
       "    </tr>\n",
       "    <tr>\n",
       "      <th>PDF</th>\n",
       "      <td>2.7</td>\n",
       "      <td>0.5</td>\n",
       "      <td>2.1</td>\n",
       "    </tr>\n",
       "    <tr>\n",
       "      <th>Z+j</th>\n",
       "      <td>0.1</td>\n",
       "      <td>1.5</td>\n",
       "      <td>0.4</td>\n",
       "    </tr>\n",
       "    <tr>\n",
       "      <th>LepM</th>\n",
       "      <td>0.8</td>\n",
       "      <td>1.9</td>\n",
       "      <td>0.8</td>\n",
       "    </tr>\n",
       "    <tr>\n",
       "      <th>DiBos</th>\n",
       "      <td>0.3</td>\n",
       "      <td>0.5</td>\n",
       "      <td>0.4</td>\n",
       "    </tr>\n",
       "    <tr>\n",
       "      <th>STop</th>\n",
       "      <td>2.0</td>\n",
       "      <td>2.3</td>\n",
       "      <td>2.1</td>\n",
       "    </tr>\n",
       "    <tr>\n",
       "      <th>Vdm</th>\n",
       "      <td>2.9</td>\n",
       "      <td>5.0</td>\n",
       "      <td>3.5</td>\n",
       "    </tr>\n",
       "    <tr>\n",
       "      <th>Lumi</th>\n",
       "      <td>6.9</td>\n",
       "      <td>3.6</td>\n",
       "      <td>5.1</td>\n",
       "    </tr>\n",
       "    <tr>\n",
       "      <th>Total</th>\n",
       "      <td>9.4</td>\n",
       "      <td>13.6</td>\n",
       "      <td>8.5</td>\n",
       "    </tr>\n",
       "  </tbody>\n",
       "</table>\n",
       "</div>"
      ],
      "text/plain": [
       "            ATLAS    CMS  Combination\n",
       "Experiment  242.4  239.0        241.5\n",
       "Stat          1.7    2.6          1.4\n",
       "Trig          0.4    3.6          1.0\n",
       "LepS          1.2    0.2          0.9\n",
       "LepI          1.7    4.0          1.7\n",
       "JetR          1.2    3.0          1.2\n",
       "JetI          0.1    0.0          0.1\n",
       "btag          1.0    1.7          0.9\n",
       "Pile          0.0    2.0          0.6\n",
       "JESu          0.6    4.3          1.3\n",
       "JESi          0.6    0.6          0.5\n",
       "JESc          0.3    0.1          0.2\n",
       "JESf          0.9    2.9          1.5\n",
       "JESb          0.1    0.0          0.1\n",
       "Scale         0.7    5.6          1.8\n",
       "Rad           0.0    3.8          1.0\n",
       "MC+PS         3.0    3.3          2.7\n",
       "PDF           2.7    0.5          2.1\n",
       "Z+j           0.1    1.5          0.4\n",
       "LepM          0.8    1.9          0.8\n",
       "DiBos         0.3    0.5          0.4\n",
       "STop          2.0    2.3          2.1\n",
       "Vdm           2.9    5.0          3.5\n",
       "Lumi          6.9    3.6          5.1\n",
       "Total         9.4   13.6          8.5"
      ]
     },
     "execution_count": 8,
     "metadata": {},
     "output_type": "execute_result"
    }
   ],
   "source": [
    "final_df = df.append(res)\n",
    "final_df['Total'] = np.sqrt((final_df.drop('Experiment', axis=1)**2).sum(axis=1))\n",
    "np.round(final_df.T, 1)"
   ]
  },
  {
   "cell_type": "code",
   "execution_count": 9,
   "metadata": {},
   "outputs": [
    {
     "data": {
      "text/plain": [
       "array([ 0.72486562,  0.27513438])"
      ]
     },
     "execution_count": 9,
     "metadata": {},
     "output_type": "execute_result"
    }
   ],
   "source": [
    "comb.weights"
   ]
  },
  {
   "cell_type": "code",
   "execution_count": 10,
   "metadata": {},
   "outputs": [
    {
     "name": "stdout",
     "output_type": "stream",
     "text": [
      "chi2 = 0.054031315728 , ndf = 1 , p-value = 0.816191335626\n"
     ]
    }
   ],
   "source": [
    "from scipy.stats import chi2\n",
    "chi2_ndf = comb.chi2_ndf\n",
    "print('chi2 =', chi2_ndf[0], ', ndf =', chi2_ndf[1], ', p-value =', chi2.sf(*chi2_ndf))"
   ]
  },
  {
   "cell_type": "code",
   "execution_count": 11,
   "metadata": {},
   "outputs": [
    {
     "name": "stdout",
     "output_type": "stream",
     "text": [
      "Correlation between ATLAS and CMS measurements = 23.5%\n"
     ]
    }
   ],
   "source": [
    "print('Correlation between ATLAS and CMS measurements = {:.1%}'.format(comb.total_correlations[0, 1]))"
   ]
  },
  {
   "cell_type": "code",
   "execution_count": 12,
   "metadata": {},
   "outputs": [],
   "source": [
    "cov = comb.total_covariance"
   ]
  },
  {
   "cell_type": "code",
   "execution_count": 13,
   "metadata": {},
   "outputs": [
    {
     "data": {
      "text/plain": [
       "array([[  89.   ,   30.135],\n",
       "       [  30.135,  185.22 ]])"
      ]
     },
     "execution_count": 13,
     "metadata": {},
     "output_type": "execute_result"
    }
   ],
   "source": [
    "cov"
   ]
  },
  {
   "cell_type": "code",
   "execution_count": 19,
   "metadata": {},
   "outputs": [],
   "source": [
    "def chi_square_fit(res, cov):\n",
    "    inv_cov = np.linalg.inv(cov)\n",
    "    def func(x):\n",
    "        return (res.values - x).T @ inv_cov @ (res.values - x)\n",
    "    return func"
   ]
  },
  {
   "cell_type": "code",
   "execution_count": 20,
   "metadata": {},
   "outputs": [],
   "source": [
    "from scipy.optimize import minimize"
   ]
  },
  {
   "cell_type": "code",
   "execution_count": 22,
   "metadata": {},
   "outputs": [
    {
     "data": {
      "text/plain": [
       "array([ 241.46454312])"
      ]
     },
     "execution_count": 22,
     "metadata": {},
     "output_type": "execute_result"
    }
   ],
   "source": [
    "minimize(chi_square_fit(df.Experiment, cov), [0]).x"
   ]
  },
  {
   "cell_type": "code",
   "execution_count": 23,
   "metadata": {},
   "outputs": [
    {
     "data": {
      "text/plain": [
       "241.46454311755085"
      ]
     },
     "execution_count": 23,
     "metadata": {},
     "output_type": "execute_result"
    }
   ],
   "source": [
    "comb.combined_result"
   ]
  },
  {
   "cell_type": "code",
   "execution_count": null,
   "metadata": {},
   "outputs": [],
   "source": []
  }
 ],
 "metadata": {
  "kernelspec": {
   "display_name": "Python 3",
   "language": "python",
   "name": "python3"
  },
  "language_info": {
   "codemirror_mode": {
    "name": "ipython",
    "version": 3
   },
   "file_extension": ".py",
   "mimetype": "text/x-python",
   "name": "python",
   "nbconvert_exporter": "python",
   "pygments_lexer": "ipython3",
   "version": "3.6.0"
  }
 },
 "nbformat": 4,
 "nbformat_minor": 2
}
